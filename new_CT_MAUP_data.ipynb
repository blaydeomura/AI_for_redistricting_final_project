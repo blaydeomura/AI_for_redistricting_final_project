{
 "cells": [
  {
   "cell_type": "code",
   "execution_count": 4,
   "id": "97655f72-06cf-4f19-a24f-7f0a15433e76",
   "metadata": {},
   "outputs": [
    {
     "name": "stdout",
     "output_type": "stream",
     "text": [
      "Requirement already satisfied: maup in /Users/blaydeomura/miniconda3/envs/gerry/lib/python3.11/site-packages (2.0.2)\n",
      "Requirement already satisfied: Shapely<3.0.0,>=2.0.1 in /Users/blaydeomura/miniconda3/envs/gerry/lib/python3.11/site-packages (from maup) (2.0.2)\n",
      "Requirement already satisfied: geopandas<0.15.0,>=0.14.0 in /Users/blaydeomura/miniconda3/envs/gerry/lib/python3.11/site-packages (from maup) (0.14.2)\n",
      "Requirement already satisfied: numpy<2.0.0,>=1.23.0 in /Users/blaydeomura/miniconda3/envs/gerry/lib/python3.11/site-packages (from maup) (1.26.3)\n",
      "Requirement already satisfied: pandas<3.0.0,>=2.1.2 in /Users/blaydeomura/miniconda3/envs/gerry/lib/python3.11/site-packages (from maup) (2.2.0)\n",
      "Requirement already satisfied: tqdm<5.0.0,>=4.61.1 in /Users/blaydeomura/miniconda3/envs/gerry/lib/python3.11/site-packages (from maup) (4.66.2)\n",
      "Requirement already satisfied: fiona>=1.8.21 in /Users/blaydeomura/miniconda3/envs/gerry/lib/python3.11/site-packages (from geopandas<0.15.0,>=0.14.0->maup) (1.9.5)\n",
      "Requirement already satisfied: packaging in /Users/blaydeomura/miniconda3/envs/gerry/lib/python3.11/site-packages (from geopandas<0.15.0,>=0.14.0->maup) (23.1)\n",
      "Requirement already satisfied: pyproj>=3.3.0 in /Users/blaydeomura/miniconda3/envs/gerry/lib/python3.11/site-packages (from geopandas<0.15.0,>=0.14.0->maup) (3.6.1)\n",
      "Requirement already satisfied: python-dateutil>=2.8.2 in /Users/blaydeomura/miniconda3/envs/gerry/lib/python3.11/site-packages (from pandas<3.0.0,>=2.1.2->maup) (2.8.2)\n",
      "Requirement already satisfied: pytz>=2020.1 in /Users/blaydeomura/miniconda3/envs/gerry/lib/python3.11/site-packages (from pandas<3.0.0,>=2.1.2->maup) (2023.4)\n",
      "Requirement already satisfied: tzdata>=2022.7 in /Users/blaydeomura/miniconda3/envs/gerry/lib/python3.11/site-packages (from pandas<3.0.0,>=2.1.2->maup) (2023.4)\n",
      "Requirement already satisfied: attrs>=19.2.0 in /Users/blaydeomura/miniconda3/envs/gerry/lib/python3.11/site-packages (from fiona>=1.8.21->geopandas<0.15.0,>=0.14.0->maup) (23.2.0)\n",
      "Requirement already satisfied: certifi in /Users/blaydeomura/miniconda3/envs/gerry/lib/python3.11/site-packages (from fiona>=1.8.21->geopandas<0.15.0,>=0.14.0->maup) (2023.11.17)\n",
      "Requirement already satisfied: click~=8.0 in /Users/blaydeomura/miniconda3/envs/gerry/lib/python3.11/site-packages (from fiona>=1.8.21->geopandas<0.15.0,>=0.14.0->maup) (8.1.7)\n",
      "Requirement already satisfied: click-plugins>=1.0 in /Users/blaydeomura/miniconda3/envs/gerry/lib/python3.11/site-packages (from fiona>=1.8.21->geopandas<0.15.0,>=0.14.0->maup) (1.1.1)\n",
      "Requirement already satisfied: cligj>=0.5 in /Users/blaydeomura/miniconda3/envs/gerry/lib/python3.11/site-packages (from fiona>=1.8.21->geopandas<0.15.0,>=0.14.0->maup) (0.7.2)\n",
      "Requirement already satisfied: six in /Users/blaydeomura/miniconda3/envs/gerry/lib/python3.11/site-packages (from fiona>=1.8.21->geopandas<0.15.0,>=0.14.0->maup) (1.16.0)\n",
      "Requirement already satisfied: setuptools in /Users/blaydeomura/miniconda3/envs/gerry/lib/python3.11/site-packages (from fiona>=1.8.21->geopandas<0.15.0,>=0.14.0->maup) (68.0.0)\n",
      "Note: you may need to restart the kernel to use updated packages.\n"
     ]
    }
   ],
   "source": [
    "pip install maup"
   ]
  },
  {
   "cell_type": "code",
   "execution_count": 5,
   "id": "622dd105-b70f-4cd0-87ea-0eed9b318e51",
   "metadata": {},
   "outputs": [
    {
     "name": "stdout",
     "output_type": "stream",
     "text": [
      "Requirement already satisfied: pandas in /Users/blaydeomura/miniconda3/envs/gerry/lib/python3.11/site-packages (2.2.0)\n",
      "Requirement already satisfied: numpy<2,>=1.23.2 in /Users/blaydeomura/miniconda3/envs/gerry/lib/python3.11/site-packages (from pandas) (1.26.3)\n",
      "Requirement already satisfied: python-dateutil>=2.8.2 in /Users/blaydeomura/miniconda3/envs/gerry/lib/python3.11/site-packages (from pandas) (2.8.2)\n",
      "Requirement already satisfied: pytz>=2020.1 in /Users/blaydeomura/miniconda3/envs/gerry/lib/python3.11/site-packages (from pandas) (2023.4)\n",
      "Requirement already satisfied: tzdata>=2022.7 in /Users/blaydeomura/miniconda3/envs/gerry/lib/python3.11/site-packages (from pandas) (2023.4)\n",
      "Requirement already satisfied: six>=1.5 in /Users/blaydeomura/miniconda3/envs/gerry/lib/python3.11/site-packages (from python-dateutil>=2.8.2->pandas) (1.16.0)\n",
      "Note: you may need to restart the kernel to use updated packages.\n"
     ]
    }
   ],
   "source": [
    "pip install pandas"
   ]
  },
  {
   "cell_type": "code",
   "execution_count": 30,
   "id": "33c2f183-37f9-4b26-8a8f-2c70c6ba05a7",
   "metadata": {},
   "outputs": [],
   "source": [
    "import pandas as pd\n",
    "import geopandas as gpd\n",
    "import maup\n",
    "import time"
   ]
  },
  {
   "cell_type": "code",
   "execution_count": 31,
   "id": "981a3b80-1093-4f71-8e60-711075efc7c4",
   "metadata": {},
   "outputs": [],
   "source": [
    "# We can comment everything else above because now we saved our dataframes so we\n",
    "# no longer need to keep importing"
   ]
  },
  {
   "cell_type": "code",
   "execution_count": 32,
   "id": "717e1c5f-fdd7-47d1-8bcf-1a19f856369d",
   "metadata": {},
   "outputs": [],
   "source": [
    "population_df = pd.read_pickle(\"population_df.pkl\")\n",
    "vap_df = pd.read_pickle(\"vap_df.pkl\")\n",
    "cong_df = pd.read_pickle(\"cong_df.pkl\")\n",
    "election_df = pd.read_pickle(\"election_df_16.pkl\")"
   ]
  },
  {
   "cell_type": "code",
   "execution_count": 33,
   "id": "beaf67ae-4f83-4f10-876d-f376ca1ebc86",
   "metadata": {},
   "outputs": [
    {
     "name": "stdout",
     "output_type": "stream",
     "text": [
      "Index(['GEOID20', 'SUMLEV', 'LOGRECNO', 'GEOID', 'COUNTY', 'P0020001',\n",
      "       'P0020002', 'P0020003', 'P0020004', 'P0020005', 'P0020006', 'P0020007',\n",
      "       'P0020008', 'P0020009', 'P0020010', 'P0020011', 'P0020012', 'P0020013',\n",
      "       'P0020014', 'P0020015', 'P0020016', 'P0020017', 'P0020018', 'P0020019',\n",
      "       'P0020020', 'P0020021', 'P0020022', 'P0020023', 'P0020024', 'P0020025',\n",
      "       'P0020026', 'P0020027', 'P0020028', 'P0020029', 'P0020030', 'P0020031',\n",
      "       'P0020032', 'P0020033', 'P0020034', 'P0020035', 'P0020036', 'P0020037',\n",
      "       'P0020038', 'P0020039', 'P0020040', 'P0020041', 'P0020042', 'P0020043',\n",
      "       'P0020044', 'P0020045', 'P0020046', 'P0020047', 'P0020048', 'P0020049',\n",
      "       'P0020050', 'P0020051', 'P0020052', 'P0020053', 'P0020054', 'P0020055',\n",
      "       'P0020056', 'P0020057', 'P0020058', 'P0020059', 'P0020060', 'P0020061',\n",
      "       'P0020062', 'P0020063', 'P0020064', 'P0020065', 'P0020066', 'P0020067',\n",
      "       'P0020068', 'P0020069', 'P0020070', 'P0020071', 'P0020072', 'P0020073',\n",
      "       'geometry'],\n",
      "      dtype='object')\n",
      "Index(['GEOID20', 'SUMLEV', 'LOGRECNO', 'GEOID', 'COUNTY', 'P0040001',\n",
      "       'P0040002', 'P0040003', 'P0040004', 'P0040005', 'P0040006', 'P0040007',\n",
      "       'P0040008', 'P0040009', 'P0040010', 'P0040011', 'P0040012', 'P0040013',\n",
      "       'P0040014', 'P0040015', 'P0040016', 'P0040017', 'P0040018', 'P0040019',\n",
      "       'P0040020', 'P0040021', 'P0040022', 'P0040023', 'P0040024', 'P0040025',\n",
      "       'P0040026', 'P0040027', 'P0040028', 'P0040029', 'P0040030', 'P0040031',\n",
      "       'P0040032', 'P0040033', 'P0040034', 'P0040035', 'P0040036', 'P0040037',\n",
      "       'P0040038', 'P0040039', 'P0040040', 'P0040041', 'P0040042', 'P0040043',\n",
      "       'P0040044', 'P0040045', 'P0040046', 'P0040047', 'P0040048', 'P0040049',\n",
      "       'P0040050', 'P0040051', 'P0040052', 'P0040053', 'P0040054', 'P0040055',\n",
      "       'P0040056', 'P0040057', 'P0040058', 'P0040059', 'P0040060', 'P0040061',\n",
      "       'P0040062', 'P0040063', 'P0040064', 'P0040065', 'P0040066', 'P0040067',\n",
      "       'P0040068', 'P0040069', 'P0040070', 'P0040071', 'P0040072', 'P0040073',\n",
      "       'geometry'],\n",
      "      dtype='object')\n",
      "Index(['STATEFP20', 'COUNTYFP20', 'NAME20', 'G16PREDCLI', 'G16PRERTRU',\n",
      "       'G16PRELJOH', 'G16PREGSTE', 'G16PREOWRI', 'G16USSDBLU', 'G16USSRCAR',\n",
      "       'G16USSLLIO', 'G16USSGRUS', 'G16USSOWRI', 'geometry'],\n",
      "      dtype='object')\n",
      "Index(['ID', 'DISTRICT', 'geometry'], dtype='object')\n"
     ]
    }
   ],
   "source": [
    "print(population_df.columns)\n",
    "print(vap_df.columns)\n",
    "print(election_df.columns)\n",
    "print(cong_df.columns)"
   ]
  },
  {
   "cell_type": "markdown",
   "id": "13010027-c54d-460d-96d7-1692ce23e965",
   "metadata": {},
   "source": [
    "# Put data into geometry units"
   ]
  },
  {
   "cell_type": "code",
   "execution_count": 34,
   "id": "ad9fce1e-b7f7-4d15-9793-1f1861db3c5a",
   "metadata": {},
   "outputs": [],
   "source": [
    "# connecticut crs is 26956\n",
    "population_df = population_df.to_crs(epsg=26956)\n",
    "vap_df = vap_df.to_crs(epsg=26956)\n",
    "election_df = election_df.to_crs(epsg=26956)\n",
    "election_df_16 = election_df_16.to_crs(epsg=26956)"
   ]
  },
  {
   "cell_type": "code",
   "execution_count": 36,
   "id": "22025343-6289-4def-843f-1f16f94edc8c",
   "metadata": {},
   "outputs": [],
   "source": [
    "blocks_to_precincts_assignment = maup.assign(population_df.geometry, election_df.geometry)\n",
    "vap_blocks_to_precincts_assignment = maup.assign(vap_df.geometry, election_df.geometry)"
   ]
  },
  {
   "cell_type": "code",
   "execution_count": 37,
   "id": "6f3e503c-5d06-4ebf-a406-7357a4dc8c55",
   "metadata": {},
   "outputs": [],
   "source": [
    "pop_column_names = ['P0020001', 'P0020002', 'P0020005', 'P0020006', 'P0020007',\n",
    "                    'P0020008', 'P0020009', 'P0020010', 'P0020011']"
   ]
  },
  {
   "cell_type": "code",
   "execution_count": 38,
   "id": "711744b0-63e4-4607-8868-f96b067e60e8",
   "metadata": {},
   "outputs": [],
   "source": [
    "vap_column_names = ['P0040001', 'P0040002', 'P0040005', 'P0040006', 'P0040007',\n",
    "                    'P0040008', 'P0040009', 'P0040010', 'P0040011']"
   ]
  },
  {
   "cell_type": "markdown",
   "id": "f4ecaaa9-688d-4a15-8722-c2bd4cbf20c0",
   "metadata": {},
   "source": [
    "We'll put all of the population columns into the election dataframe"
   ]
  },
  {
   "cell_type": "code",
   "execution_count": 39,
   "id": "d1612815-ff0b-4017-a9c2-7ad3d9e0ffe6",
   "metadata": {},
   "outputs": [],
   "source": [
    "for name in pop_column_names:\n",
    "    election_df[name] = population_df[name].groupby(blocks_to_precincts_assignment).sum()\n",
    "for name in vap_column_names:\n",
    "    election_df[name] = vap_df[name].groupby(vap_blocks_to_precincts_assignment).sum()"
   ]
  },
  {
   "cell_type": "markdown",
   "id": "478b4584-6698-4087-aa9a-69f5a01c78ea",
   "metadata": {},
   "source": [
    "Let's check to make sure we didn't lose anyone."
   ]
  },
  {
   "cell_type": "code",
   "execution_count": 40,
   "id": "b54b0ad3-9df9-4486-9c5d-fb7b105497cb",
   "metadata": {},
   "outputs": [
    {
     "name": "stdout",
     "output_type": "stream",
     "text": [
      "3605944\n",
      "3605944.0\n",
      "2869227\n",
      "2869227.0\n"
     ]
    }
   ],
   "source": [
    "print(population_df['P0020001'].sum())\n",
    "print(election_df['P0020001'].sum())\n",
    "print(vap_df['P0040001'].sum())\n",
    "print(election_df['P0040001'].sum())"
   ]
  },
  {
   "cell_type": "code",
   "execution_count": 41,
   "id": "3c4c33e8-41a0-4339-b4eb-d7081e2d1c93",
   "metadata": {},
   "outputs": [
    {
     "name": "stdout",
     "output_type": "stream",
     "text": [
      "There are 18 overlaps.\n",
      "There are 2 holes.\n",
      "There are some invalid geometries.\n",
      "False\n"
     ]
    }
   ],
   "source": [
    "print(maup.doctor(election_df))"
   ]
  },
  {
   "cell_type": "code",
   "execution_count": 42,
   "id": "3176e3fe-44b5-4ef4-a671-0baaa1e7f649",
   "metadata": {},
   "outputs": [],
   "source": [
    "# election_df = maup.quick_repair(election_df)"
   ]
  },
  {
   "cell_type": "code",
   "execution_count": 43,
   "id": "8541c7a1-386b-4020-afdd-0d3348d99520",
   "metadata": {},
   "outputs": [
    {
     "name": "stderr",
     "output_type": "stream",
     "text": [
      "/Users/blaydeomura/miniconda3/envs/gerry/lib/python3.11/site-packages/maup/smart_repair.py:95: FutureWarning: ChainedAssignmentError: behaviour will change in pandas 3.0!\n",
      "You are setting values through chained assignment. Currently this works in certain cases, but when using Copy-on-Write (which will become the default behaviour in pandas 3.0) this will never work to update the original DataFrame or Series, because the intermediate object on which we are setting values will behave as a copy.\n",
      "A typical example is when you are setting values in a column of a DataFrame, like:\n",
      "\n",
      "df[\"col\"][row_indexer] = value\n",
      "\n",
      "Use `df.loc[row_indexer, \"col\"] = values` instead, to perform the assignment in a single step and ensure this keeps updating the original `df`.\n",
      "\n",
      "See the caveats in the documentation: https://pandas.pydata.org/pandas-docs/stable/user_guide/indexing.html#returning-a-view-versus-a-copy\n",
      "\n",
      "  geometries_df[\"geometry\"][i] = shapely.wkb.loads(\n",
      "/Users/blaydeomura/miniconda3/envs/gerry/lib/python3.11/site-packages/maup/smart_repair.py:125: FutureWarning: ChainedAssignmentError: behaviour will change in pandas 3.0!\n",
      "You are setting values through chained assignment. Currently this works in certain cases, but when using Copy-on-Write (which will become the default behaviour in pandas 3.0) this will never work to update the original DataFrame or Series, because the intermediate object on which we are setting values will behave as a copy.\n",
      "A typical example is when you are setting values in a column of a DataFrame, like:\n",
      "\n",
      "df[\"col\"][row_indexer] = value\n",
      "\n",
      "Use `df.loc[row_indexer, \"col\"] = values` instead, to perform the assignment in a single step and ensure this keeps updating the original `df`.\n",
      "\n",
      "See the caveats in the documentation: https://pandas.pydata.org/pandas-docs/stable/user_guide/indexing.html#returning-a-view-versus-a-copy\n",
      "\n",
      "  geometries_df[\"geometry\"][i] = make_valid(geometries_df[\"geometry\"][i])\n",
      "/Users/blaydeomura/miniconda3/envs/gerry/lib/python3.11/site-packages/maup/smart_repair.py:149: FutureWarning: ChainedAssignmentError: behaviour will change in pandas 3.0!\n",
      "You are setting values through chained assignment. Currently this works in certain cases, but when using Copy-on-Write (which will become the default behaviour in pandas 3.0) this will never work to update the original DataFrame or Series, because the intermediate object on which we are setting values will behave as a copy.\n",
      "A typical example is when you are setting values in a column of a DataFrame, like:\n",
      "\n",
      "df[\"col\"][row_indexer] = value\n",
      "\n",
      "Use `df.loc[row_indexer, \"col\"] = values` instead, to perform the assignment in a single step and ensure this keeps updating the original `df`.\n",
      "\n",
      "See the caveats in the documentation: https://pandas.pydata.org/pandas-docs/stable/user_guide/indexing.html#returning-a-view-versus-a-copy\n",
      "\n",
      "  geometries_df[\"geometry\"][i] = make_valid(geometries_df[\"geometry\"][i])\n",
      "/Users/blaydeomura/miniconda3/envs/gerry/lib/python3.11/site-packages/maup/smart_repair.py:151: FutureWarning: ChainedAssignmentError: behaviour will change in pandas 3.0!\n",
      "You are setting values through chained assignment. Currently this works in certain cases, but when using Copy-on-Write (which will become the default behaviour in pandas 3.0) this will never work to update the original DataFrame or Series, because the intermediate object on which we are setting values will behave as a copy.\n",
      "A typical example is when you are setting values in a column of a DataFrame, like:\n",
      "\n",
      "df[\"col\"][row_indexer] = value\n",
      "\n",
      "Use `df.loc[row_indexer, \"col\"] = values` instead, to perform the assignment in a single step and ensure this keeps updating the original `df`.\n",
      "\n",
      "See the caveats in the documentation: https://pandas.pydata.org/pandas-docs/stable/user_guide/indexing.html#returning-a-view-versus-a-copy\n",
      "\n",
      "  geometries_df[\"geometry\"][i] = unary_union([x for x in geometries_df[\"geometry\"][i].geoms if x.geom_type in (\"Polygon\", \"MultiPolygon\")])\n"
     ]
    },
    {
     "name": "stdout",
     "output_type": "stream",
     "text": [
      "Snapping all geometries to a grid with precision 10^( -5 ) to avoid GEOS errors.\n"
     ]
    },
    {
     "name": "stderr",
     "output_type": "stream",
     "text": [
      "/Users/blaydeomura/miniconda3/envs/gerry/lib/python3.11/site-packages/maup/smart_repair.py:372: FutureWarning: ChainedAssignmentError: behaviour will change in pandas 3.0!\n",
      "You are setting values through chained assignment. Currently this works in certain cases, but when using Copy-on-Write (which will become the default behaviour in pandas 3.0) this will never work to update the original DataFrame or Series, because the intermediate object on which we are setting values will behave as a copy.\n",
      "A typical example is when you are setting values in a column of a DataFrame, like:\n",
      "\n",
      "df[\"col\"][row_indexer] = value\n",
      "\n",
      "Use `df.loc[row_indexer, \"col\"] = values` instead, to perform the assignment in a single step and ensure this keeps updating the original `df`.\n",
      "\n",
      "See the caveats in the documentation: https://pandas.pydata.org/pandas-docs/stable/user_guide/indexing.html#returning-a-view-versus-a-copy\n",
      "\n",
      "  pieces_df[\"polygon indices\"][i] = set()\n",
      "/Users/blaydeomura/miniconda3/envs/gerry/lib/python3.11/site-packages/maup/smart_repair.py:415: FutureWarning: ChainedAssignmentError: behaviour will change in pandas 3.0!\n",
      "You are setting values through chained assignment. Currently this works in certain cases, but when using Copy-on-Write (which will become the default behaviour in pandas 3.0) this will never work to update the original DataFrame or Series, because the intermediate object on which we are setting values will behave as a copy.\n",
      "A typical example is when you are setting values in a column of a DataFrame, like:\n",
      "\n",
      "df[\"col\"][row_indexer] = value\n",
      "\n",
      "Use `df.loc[row_indexer, \"col\"] = values` instead, to perform the assignment in a single step and ensure this keeps updating the original `df`.\n",
      "\n",
      "See the caveats in the documentation: https://pandas.pydata.org/pandas-docs/stable/user_guide/indexing.html#returning-a-view-versus-a-copy\n",
      "\n",
      "  pieces_df[\"polygon indices\"][i] = pieces_df[\"polygon indices\"][i].union({j})\n"
     ]
    },
    {
     "name": "stdout",
     "output_type": "stream",
     "text": [
      "Identifying overlaps...\n",
      "Resolving overlaps...\n"
     ]
    },
    {
     "name": "stderr",
     "output_type": "stream",
     "text": [
      "/Users/blaydeomura/miniconda3/envs/gerry/lib/python3.11/site-packages/maup/smart_repair.py:487: FutureWarning: ChainedAssignmentError: behaviour will change in pandas 3.0!\n",
      "You are setting values through chained assignment. Currently this works in certain cases, but when using Copy-on-Write (which will become the default behaviour in pandas 3.0) this will never work to update the original DataFrame or Series, because the intermediate object on which we are setting values will behave as a copy.\n",
      "A typical example is when you are setting values in a column of a DataFrame, like:\n",
      "\n",
      "df[\"col\"][row_indexer] = value\n",
      "\n",
      "Use `df.loc[row_indexer, \"col\"] = values` instead, to perform the assignment in a single step and ensure this keeps updating the original `df`.\n",
      "\n",
      "See the caveats in the documentation: https://pandas.pydata.org/pandas-docs/stable/user_guide/indexing.html#returning-a-view-versus-a-copy\n",
      "\n",
      "  geometries_df[\"geometry\"][this_poly_ind] = unary_union([geometries_df[\"geometry\"][this_poly_ind], this_piece])\n",
      "/Users/blaydeomura/miniconda3/envs/gerry/lib/python3.11/site-packages/maup/smart_repair.py:496: FutureWarning: ChainedAssignmentError: behaviour will change in pandas 3.0!\n",
      "You are setting values through chained assignment. Currently this works in certain cases, but when using Copy-on-Write (which will become the default behaviour in pandas 3.0) this will never work to update the original DataFrame or Series, because the intermediate object on which we are setting values will behave as a copy.\n",
      "A typical example is when you are setting values in a column of a DataFrame, like:\n",
      "\n",
      "df[\"col\"][row_indexer] = value\n",
      "\n",
      "Use `df.loc[row_indexer, \"col\"] = values` instead, to perform the assignment in a single step and ensure this keeps updating the original `df`.\n",
      "\n",
      "See the caveats in the documentation: https://pandas.pydata.org/pandas-docs/stable/user_guide/indexing.html#returning-a-view-versus-a-copy\n",
      "\n",
      "  geometries_df[\"num components orig\"][ind] = num_components(geometries0_df[\"geometry\"][ind])\n",
      "/Users/blaydeomura/miniconda3/envs/gerry/lib/python3.11/site-packages/maup/smart_repair.py:497: FutureWarning: ChainedAssignmentError: behaviour will change in pandas 3.0!\n",
      "You are setting values through chained assignment. Currently this works in certain cases, but when using Copy-on-Write (which will become the default behaviour in pandas 3.0) this will never work to update the original DataFrame or Series, because the intermediate object on which we are setting values will behave as a copy.\n",
      "A typical example is when you are setting values in a column of a DataFrame, like:\n",
      "\n",
      "df[\"col\"][row_indexer] = value\n",
      "\n",
      "Use `df.loc[row_indexer, \"col\"] = values` instead, to perform the assignment in a single step and ensure this keeps updating the original `df`.\n",
      "\n",
      "See the caveats in the documentation: https://pandas.pydata.org/pandas-docs/stable/user_guide/indexing.html#returning-a-view-versus-a-copy\n",
      "\n",
      "  geometries_df[\"num components refined\"][ind] = num_components(geometries_df[\"geometry\"][ind])\n",
      "/Users/blaydeomura/miniconda3/envs/gerry/lib/python3.11/site-packages/maup/smart_repair.py:531: FutureWarning: ChainedAssignmentError: behaviour will change in pandas 3.0!\n",
      "You are setting values through chained assignment. Currently this works in certain cases, but when using Copy-on-Write (which will become the default behaviour in pandas 3.0) this will never work to update the original DataFrame or Series, because the intermediate object on which we are setting values will behave as a copy.\n",
      "A typical example is when you are setting values in a column of a DataFrame, like:\n",
      "\n",
      "df[\"col\"][row_indexer] = value\n",
      "\n",
      "Use `df.loc[row_indexer, \"col\"] = values` instead, to perform the assignment in a single step and ensure this keeps updating the original `df`.\n",
      "\n",
      "See the caveats in the documentation: https://pandas.pydata.org/pandas-docs/stable/user_guide/indexing.html#returning-a-view-versus-a-copy\n",
      "\n",
      "  geometries_disconnected_df[\"geometry\"][g_ind] = unary_union([\n",
      "/Users/blaydeomura/miniconda3/envs/gerry/lib/python3.11/site-packages/maup/smart_repair.py:538: FutureWarning: ChainedAssignmentError: behaviour will change in pandas 3.0!\n",
      "You are setting values through chained assignment. Currently this works in certain cases, but when using Copy-on-Write (which will become the default behaviour in pandas 3.0) this will never work to update the original DataFrame or Series, because the intermediate object on which we are setting values will behave as a copy.\n",
      "A typical example is when you are setting values in a column of a DataFrame, like:\n",
      "\n",
      "df[\"col\"][row_indexer] = value\n",
      "\n",
      "Use `df.loc[row_indexer, \"col\"] = values` instead, to perform the assignment in a single step and ensure this keeps updating the original `df`.\n",
      "\n",
      "See the caveats in the documentation: https://pandas.pydata.org/pandas-docs/stable/user_guide/indexing.html#returning-a-view-versus-a-copy\n",
      "\n",
      "  geometries_df[\"geometry\"][g_ind] = geometries_disconnected_df[\"geometry\"][g_ind]\n",
      "/Users/blaydeomura/miniconda3/envs/gerry/lib/python3.11/site-packages/maup/smart_repair.py:563: FutureWarning: ChainedAssignmentError: behaviour will change in pandas 3.0!\n",
      "You are setting values through chained assignment. Currently this works in certain cases, but when using Copy-on-Write (which will become the default behaviour in pandas 3.0) this will never work to update the original DataFrame or Series, because the intermediate object on which we are setting values will behave as a copy.\n",
      "A typical example is when you are setting values in a column of a DataFrame, like:\n",
      "\n",
      "df[\"col\"][row_indexer] = value\n",
      "\n",
      "Use `df.loc[row_indexer, \"col\"] = values` instead, to perform the assignment in a single step and ensure this keeps updating the original `df`.\n",
      "\n",
      "See the caveats in the documentation: https://pandas.pydata.org/pandas-docs/stable/user_guide/indexing.html#returning-a-view-versus-a-copy\n",
      "\n",
      "  geometries_df[\"geometry\"][poly_to_add_to] = unary_union(\n"
     ]
    },
    {
     "name": "stdout",
     "output_type": "stream",
     "text": [
      "Assigning order 2 pieces...\n",
      "Assigning order 3 pieces...\n",
      "Filling gaps...\n"
     ]
    },
    {
     "name": "stderr",
     "output_type": "stream",
     "text": [
      "Gaps to simplify:   0%|                                   | 0/2 [00:00<?, ?it/s]/Users/blaydeomura/miniconda3/envs/gerry/lib/python3.11/site-packages/maup/smart_repair.py:1207: FutureWarning: ChainedAssignmentError: behaviour will change in pandas 3.0!\n",
      "You are setting values through chained assignment. Currently this works in certain cases, but when using Copy-on-Write (which will become the default behaviour in pandas 3.0) this will never work to update the original DataFrame or Series, because the intermediate object on which we are setting values will behave as a copy.\n",
      "A typical example is when you are setting values in a column of a DataFrame, like:\n",
      "\n",
      "df[\"col\"][row_indexer] = value\n",
      "\n",
      "Use `df.loc[row_indexer, \"col\"] = values` instead, to perform the assignment in a single step and ensure this keeps updating the original `df`.\n",
      "\n",
      "See the caveats in the documentation: https://pandas.pydata.org/pandas-docs/stable/user_guide/indexing.html#returning-a-view-versus-a-copy\n",
      "\n",
      "  holes_df.geometry[h_ind] = orient(holes_df.geometry[h_ind])\n",
      "/Users/blaydeomura/miniconda3/envs/gerry/lib/python3.11/site-packages/maup/smart_repair.py:1594: FutureWarning: ChainedAssignmentError: behaviour will change in pandas 3.0!\n",
      "You are setting values through chained assignment. Currently this works in certain cases, but when using Copy-on-Write (which will become the default behaviour in pandas 3.0) this will never work to update the original DataFrame or Series, because the intermediate object on which we are setting values will behave as a copy.\n",
      "A typical example is when you are setting values in a column of a DataFrame, like:\n",
      "\n",
      "df[\"col\"][row_indexer] = value\n",
      "\n",
      "Use `df.loc[row_indexer, \"col\"] = values` instead, to perform the assignment in a single step and ensure this keeps updating the original `df`.\n",
      "\n",
      "See the caveats in the documentation: https://pandas.pydata.org/pandas-docs/stable/user_guide/indexing.html#returning-a-view-versus-a-copy\n",
      "\n",
      "  geometries_df[\"geometry\"][this_geom] = unary_union([geometries_df[\"geometry\"][this_geom], piece_to_add])\n",
      "/Users/blaydeomura/miniconda3/envs/gerry/lib/python3.11/site-packages/maup/smart_repair.py:1594: FutureWarning: ChainedAssignmentError: behaviour will change in pandas 3.0!\n",
      "You are setting values through chained assignment. Currently this works in certain cases, but when using Copy-on-Write (which will become the default behaviour in pandas 3.0) this will never work to update the original DataFrame or Series, because the intermediate object on which we are setting values will behave as a copy.\n",
      "A typical example is when you are setting values in a column of a DataFrame, like:\n",
      "\n",
      "df[\"col\"][row_indexer] = value\n",
      "\n",
      "Use `df.loc[row_indexer, \"col\"] = values` instead, to perform the assignment in a single step and ensure this keeps updating the original `df`.\n",
      "\n",
      "See the caveats in the documentation: https://pandas.pydata.org/pandas-docs/stable/user_guide/indexing.html#returning-a-view-versus-a-copy\n",
      "\n",
      "  geometries_df[\"geometry\"][this_geom] = unary_union([geometries_df[\"geometry\"][this_geom], piece_to_add])\n",
      "Gaps to simplify:  50%|█████████████▌             | 1/2 [00:00<00:00,  9.04it/s]/Users/blaydeomura/miniconda3/envs/gerry/lib/python3.11/site-packages/maup/smart_repair.py:1207: FutureWarning: ChainedAssignmentError: behaviour will change in pandas 3.0!\n",
      "You are setting values through chained assignment. Currently this works in certain cases, but when using Copy-on-Write (which will become the default behaviour in pandas 3.0) this will never work to update the original DataFrame or Series, because the intermediate object on which we are setting values will behave as a copy.\n",
      "A typical example is when you are setting values in a column of a DataFrame, like:\n",
      "\n",
      "df[\"col\"][row_indexer] = value\n",
      "\n",
      "Use `df.loc[row_indexer, \"col\"] = values` instead, to perform the assignment in a single step and ensure this keeps updating the original `df`.\n",
      "\n",
      "See the caveats in the documentation: https://pandas.pydata.org/pandas-docs/stable/user_guide/indexing.html#returning-a-view-versus-a-copy\n",
      "\n",
      "  holes_df.geometry[h_ind] = orient(holes_df.geometry[h_ind])\n",
      "/Users/blaydeomura/miniconda3/envs/gerry/lib/python3.11/site-packages/maup/smart_repair.py:1594: FutureWarning: ChainedAssignmentError: behaviour will change in pandas 3.0!\n",
      "You are setting values through chained assignment. Currently this works in certain cases, but when using Copy-on-Write (which will become the default behaviour in pandas 3.0) this will never work to update the original DataFrame or Series, because the intermediate object on which we are setting values will behave as a copy.\n",
      "A typical example is when you are setting values in a column of a DataFrame, like:\n",
      "\n",
      "df[\"col\"][row_indexer] = value\n",
      "\n",
      "Use `df.loc[row_indexer, \"col\"] = values` instead, to perform the assignment in a single step and ensure this keeps updating the original `df`.\n",
      "\n",
      "See the caveats in the documentation: https://pandas.pydata.org/pandas-docs/stable/user_guide/indexing.html#returning-a-view-versus-a-copy\n",
      "\n",
      "  geometries_df[\"geometry\"][this_geom] = unary_union([geometries_df[\"geometry\"][this_geom], piece_to_add])\n",
      "/Users/blaydeomura/miniconda3/envs/gerry/lib/python3.11/site-packages/maup/smart_repair.py:1594: FutureWarning: ChainedAssignmentError: behaviour will change in pandas 3.0!\n",
      "You are setting values through chained assignment. Currently this works in certain cases, but when using Copy-on-Write (which will become the default behaviour in pandas 3.0) this will never work to update the original DataFrame or Series, because the intermediate object on which we are setting values will behave as a copy.\n",
      "A typical example is when you are setting values in a column of a DataFrame, like:\n",
      "\n",
      "df[\"col\"][row_indexer] = value\n",
      "\n",
      "Use `df.loc[row_indexer, \"col\"] = values` instead, to perform the assignment in a single step and ensure this keeps updating the original `df`.\n",
      "\n",
      "See the caveats in the documentation: https://pandas.pydata.org/pandas-docs/stable/user_guide/indexing.html#returning-a-view-versus-a-copy\n",
      "\n",
      "  geometries_df[\"geometry\"][this_geom] = unary_union([geometries_df[\"geometry\"][this_geom], piece_to_add])\n",
      "/Users/blaydeomura/miniconda3/envs/gerry/lib/python3.11/site-packages/maup/smart_repair.py:1594: FutureWarning: ChainedAssignmentError: behaviour will change in pandas 3.0!\n",
      "You are setting values through chained assignment. Currently this works in certain cases, but when using Copy-on-Write (which will become the default behaviour in pandas 3.0) this will never work to update the original DataFrame or Series, because the intermediate object on which we are setting values will behave as a copy.\n",
      "A typical example is when you are setting values in a column of a DataFrame, like:\n",
      "\n",
      "df[\"col\"][row_indexer] = value\n",
      "\n",
      "Use `df.loc[row_indexer, \"col\"] = values` instead, to perform the assignment in a single step and ensure this keeps updating the original `df`.\n",
      "\n",
      "See the caveats in the documentation: https://pandas.pydata.org/pandas-docs/stable/user_guide/indexing.html#returning-a-view-versus-a-copy\n",
      "\n",
      "  geometries_df[\"geometry\"][this_geom] = unary_union([geometries_df[\"geometry\"][this_geom], piece_to_add])\n",
      "Gaps to simplify: 100%|███████████████████████████| 2/2 [00:00<00:00, 10.22it/s]\n",
      "Gaps to fill:   0%|                                       | 0/1 [00:00<?, ?it/s]/Users/blaydeomura/miniconda3/envs/gerry/lib/python3.11/site-packages/maup/smart_repair.py:1207: FutureWarning: ChainedAssignmentError: behaviour will change in pandas 3.0!\n",
      "You are setting values through chained assignment. Currently this works in certain cases, but when using Copy-on-Write (which will become the default behaviour in pandas 3.0) this will never work to update the original DataFrame or Series, because the intermediate object on which we are setting values will behave as a copy.\n",
      "A typical example is when you are setting values in a column of a DataFrame, like:\n",
      "\n",
      "df[\"col\"][row_indexer] = value\n",
      "\n",
      "Use `df.loc[row_indexer, \"col\"] = values` instead, to perform the assignment in a single step and ensure this keeps updating the original `df`.\n",
      "\n",
      "See the caveats in the documentation: https://pandas.pydata.org/pandas-docs/stable/user_guide/indexing.html#returning-a-view-versus-a-copy\n",
      "\n",
      "  holes_df.geometry[h_ind] = orient(holes_df.geometry[h_ind])\n",
      "/Users/blaydeomura/miniconda3/envs/gerry/lib/python3.11/site-packages/maup/smart_repair.py:676: FutureWarning: ChainedAssignmentError: behaviour will change in pandas 3.0!\n",
      "You are setting values through chained assignment. Currently this works in certain cases, but when using Copy-on-Write (which will become the default behaviour in pandas 3.0) this will never work to update the original DataFrame or Series, because the intermediate object on which we are setting values will behave as a copy.\n",
      "A typical example is when you are setting values in a column of a DataFrame, like:\n",
      "\n",
      "df[\"col\"][row_indexer] = value\n",
      "\n",
      "Use `df.loc[row_indexer, \"col\"] = values` instead, to perform the assignment in a single step and ensure this keeps updating the original `df`.\n",
      "\n",
      "See the caveats in the documentation: https://pandas.pydata.org/pandas-docs/stable/user_guide/indexing.html#returning-a-view-versus-a-copy\n",
      "\n",
      "  geometries_df[\"geometry\"][g_ind] = unary_union([geometries_df[\"geometry\"][g_ind], this_segment_poly_to_add])\n",
      "Gaps to fill: 100%|███████████████████████████████| 1/1 [00:00<00:00, 11.60it/s]\n"
     ]
    }
   ],
   "source": [
    "election_df = maup.smart_repair(election_df)"
   ]
  },
  {
   "cell_type": "code",
   "execution_count": 44,
   "id": "8716f8ec-1c30-4fba-a3b1-23c421716082",
   "metadata": {},
   "outputs": [
    {
     "name": "stdout",
     "output_type": "stream",
     "text": [
      "True\n"
     ]
    }
   ],
   "source": [
    "print(maup.doctor(election_df))"
   ]
  },
  {
   "cell_type": "markdown",
   "id": "6addcafa-e3fd-462e-bb08-f10625edf2d2",
   "metadata": {},
   "source": [
    "# Get districts assignment and put it into dataframe"
   ]
  },
  {
   "cell_type": "code",
   "execution_count": 45,
   "id": "13427432-6f42-43a2-bcb6-f284981bb4db",
   "metadata": {},
   "outputs": [],
   "source": [
    "cong_df = cong_df.to_crs(epsg=26956)"
   ]
  },
  {
   "cell_type": "code",
   "execution_count": 46,
   "id": "e09ffb81-4132-46c1-abe6-ef8be145f0f2",
   "metadata": {},
   "outputs": [],
   "source": [
    "precincts_to_districts_assignment = maup.assign(election_df.geometry, cong_df.geometry)\n",
    "election_df[\"CD\"] = precincts_to_districts_assignment"
   ]
  },
  {
   "cell_type": "code",
   "execution_count": 47,
   "id": "eed643db-03be-4037-ba89-e8085e5e4733",
   "metadata": {},
   "outputs": [],
   "source": [
    "district_col_name = \"DISTRICT\""
   ]
  },
  {
   "cell_type": "code",
   "execution_count": 48,
   "id": "23b1f99b-163b-4b51-9785-f61ade543d2a",
   "metadata": {},
   "outputs": [
    {
     "name": "stdout",
     "output_type": "stream",
     "text": [
      "{0, 1, 2, 3, 4}\n",
      "{'5', '3', '2', '4', '1'}\n",
      "{'5', '2', '1', '4', '3'}\n"
     ]
    },
    {
     "name": "stderr",
     "output_type": "stream",
     "text": [
      "/var/folders/8v/_dv8pl_n0nv2335c5f2bkdnr0000gn/T/ipykernel_17802/674538680.py:3: FutureWarning: Setting an item of incompatible dtype is deprecated and will raise an error in a future version of pandas. Value '2' has dtype incompatible with int64, please explicitly cast to a compatible dtype first.\n",
      "  election_df.at[precinct_index, \"CD\"] = cong_df.at[election_df.at[precinct_index, \"CD\"], district_col_name]\n"
     ]
    }
   ],
   "source": [
    "print(set(election_df[\"CD\"]))\n",
    "for precinct_index in range(len(election_df)):\n",
    "    election_df.at[precinct_index, \"CD\"] = cong_df.at[election_df.at[precinct_index, \"CD\"], district_col_name]\n",
    "print(set(cong_df[district_col_name]))\n",
    "print(set(election_df[\"CD\"]))"
   ]
  },
  {
   "cell_type": "code",
   "execution_count": 50,
   "id": "5c6740a6-9d7b-4631-8800-4d22f43153c1",
   "metadata": {},
   "outputs": [],
   "source": [
    "rename_dict = {'P0020001': 'TOTPOP', 'P0020002': 'HISP', 'P0020005': 'NH_WHITE', 'P0020006': 'NH_BLACK', 'P0020007': 'NH_AMIN',\n",
    "                    'P0020008': 'NH_ASIAN', 'P0020009': 'NH_NHPI', 'P0020010': 'NH_OTHER', 'P0020011': 'NH_2MORE',\n",
    "                    'P0040001': 'VAP', 'P0040002': 'HVAP', 'P0040005': 'WVAP', 'P0040006': 'BVAP', 'P0040007': 'AMINVAP',\n",
    "                                        'P0040008': 'ASIANVAP', 'P0040009': 'NHPIVAP', 'P0040010': 'OTHERVAP', 'P0040011': '2MOREVAP',\n",
    "                                        'G20PREDBID': 'G20PRED', 'G20PRERTRU': 'G20PRER', 'G20USSDDUR': 'G20USSD', \n",
    "                                        'G20USSRCUR': 'G20USSR'}"
   ]
  },
  {
   "cell_type": "code",
   "execution_count": 51,
   "id": "31048e59-591e-4210-b6cc-0532e9016f3b",
   "metadata": {},
   "outputs": [
    {
     "data": {
      "text/plain": [
       "['STATEFP20',\n",
       " 'COUNTYFP20',\n",
       " 'NAME20',\n",
       " 'G16PREDCLI',\n",
       " 'G16PRERTRU',\n",
       " 'G16PRELJOH',\n",
       " 'G16PREGSTE',\n",
       " 'G16PREOWRI',\n",
       " 'G16USSDBLU',\n",
       " 'G16USSRCAR',\n",
       " 'G16USSLLIO',\n",
       " 'G16USSGRUS',\n",
       " 'G16USSOWRI',\n",
       " 'geometry',\n",
       " 'P0020001',\n",
       " 'P0020002',\n",
       " 'P0020005',\n",
       " 'P0020006',\n",
       " 'P0020007',\n",
       " 'P0020008',\n",
       " 'P0020009',\n",
       " 'P0020010',\n",
       " 'P0020011',\n",
       " 'P0040001',\n",
       " 'P0040002',\n",
       " 'P0040005',\n",
       " 'P0040006',\n",
       " 'P0040007',\n",
       " 'P0040008',\n",
       " 'P0040009',\n",
       " 'P0040010',\n",
       " 'P0040011',\n",
       " 'CD']"
      ]
     },
     "execution_count": 51,
     "metadata": {},
     "output_type": "execute_result"
    }
   ],
   "source": [
    "list(election_df.columns)"
   ]
  },
  {
   "cell_type": "code",
   "execution_count": 52,
   "id": "9f3145dd-d461-442d-9e9f-b2cdec7b5964",
   "metadata": {},
   "outputs": [],
   "source": [
    "election_df.rename(columns=rename_dict, inplace = True)"
   ]
  },
  {
   "cell_type": "code",
   "execution_count": 53,
   "id": "5b812bac-03c6-4938-874d-1253ac41ccee",
   "metadata": {},
   "outputs": [
    {
     "data": {
      "text/plain": [
       "['STATEFP20',\n",
       " 'COUNTYFP20',\n",
       " 'NAME20',\n",
       " 'G16PREDCLI',\n",
       " 'G16PRERTRU',\n",
       " 'G16PRELJOH',\n",
       " 'G16PREGSTE',\n",
       " 'G16PREOWRI',\n",
       " 'G16USSDBLU',\n",
       " 'G16USSRCAR',\n",
       " 'G16USSLLIO',\n",
       " 'G16USSGRUS',\n",
       " 'G16USSOWRI',\n",
       " 'geometry',\n",
       " 'TOTPOP',\n",
       " 'HISP',\n",
       " 'NH_WHITE',\n",
       " 'NH_BLACK',\n",
       " 'NH_AMIN',\n",
       " 'NH_ASIAN',\n",
       " 'NH_NHPI',\n",
       " 'NH_OTHER',\n",
       " 'NH_2MORE',\n",
       " 'VAP',\n",
       " 'HVAP',\n",
       " 'WVAP',\n",
       " 'BVAP',\n",
       " 'AMINVAP',\n",
       " 'ASIANVAP',\n",
       " 'NHPIVAP',\n",
       " 'OTHERVAP',\n",
       " '2MOREVAP',\n",
       " 'CD']"
      ]
     },
     "execution_count": 53,
     "metadata": {},
     "output_type": "execute_result"
    }
   ],
   "source": [
    "list(election_df.columns)"
   ]
  },
  {
   "cell_type": "code",
   "execution_count": 55,
   "id": "dea7a0c1-16f2-4877-9314-72eef4d3b9e0",
   "metadata": {},
   "outputs": [
    {
     "data": {
      "text/plain": [
       "['STATEFP20',\n",
       " 'COUNTYFP20',\n",
       " 'NAME20',\n",
       " 'G16PREDCLI',\n",
       " 'G16PRERTRU',\n",
       " 'G16PRELJOH',\n",
       " 'G16PREGSTE',\n",
       " 'G16PREOWRI',\n",
       " 'G16USSDBLU',\n",
       " 'G16USSRCAR',\n",
       " 'G16USSLLIO',\n",
       " 'G16USSGRUS',\n",
       " 'G16USSOWRI',\n",
       " 'geometry',\n",
       " 'TOTPOP',\n",
       " 'HISP',\n",
       " 'NH_WHITE',\n",
       " 'NH_BLACK',\n",
       " 'NH_AMIN',\n",
       " 'NH_ASIAN',\n",
       " 'NH_NHPI',\n",
       " 'NH_OTHER',\n",
       " 'NH_2MORE',\n",
       " 'VAP',\n",
       " 'HVAP',\n",
       " 'WVAP',\n",
       " 'BVAP',\n",
       " 'AMINVAP',\n",
       " 'ASIANVAP',\n",
       " 'NHPIVAP',\n",
       " 'OTHERVAP',\n",
       " '2MOREVAP',\n",
       " 'CD']"
      ]
     },
     "execution_count": 55,
     "metadata": {},
     "output_type": "execute_result"
    }
   ],
   "source": [
    "# election_df.drop(columns=[ 'G20PRELJOR','G20PREGHAW','G20PREOWRI'], inplace=True)\n",
    "list(election_df.columns)"
   ]
  },
  {
   "cell_type": "code",
   "execution_count": 56,
   "id": "42d591ee-d413-452e-95e0-fe9272710ea7",
   "metadata": {},
   "outputs": [
    {
     "data": {
      "text/plain": [
       "<Axes: >"
      ]
     },
     "execution_count": 56,
     "metadata": {},
     "output_type": "execute_result"
    },
    {
     "data": {
      "image/png": "[encoded data removed]",
      "text/plain": [
       "<Figure size 640x480 with 1 Axes>"
      ]
     },
     "metadata": {},
     "output_type": "display_data"
    }
   ],
   "source": [
    "election_df.plot()"
   ]
  },
  {
   "cell_type": "code",
   "execution_count": 57,
   "id": "df600e2f-6c76-483e-8fe6-f171c3ffe89c",
   "metadata": {},
   "outputs": [],
   "source": [
    "# Convert to string and strip spaces, then convert to numeric\n",
    "election_df[\"CD\"] = pd.to_numeric(election_df[\"CD\"].astype(str).str.strip(), errors='coerce')"
   ]
  },
  {
   "cell_type": "code",
   "execution_count": 58,
   "id": "620dc7de-f35f-47e0-918f-d8eeb43df46a",
   "metadata": {},
   "outputs": [
    {
     "name": "stdout",
     "output_type": "stream",
     "text": [
      "715659.0\n",
      "725372.0\n",
      "[715659.0, 725372.0, 717651.0, 726330.0, 720932.0]\n"
     ]
    }
   ],
   "source": [
    "print(election_df.loc[election_df[\"CD\"] == 1, \"TOTPOP\"].sum())\n",
    "print(election_df.loc[election_df[\"CD\"] == 2, \"TOTPOP\"].sum())\n",
    "pop_vals = [election_df.loc[election_df[\"CD\"] == n, \"TOTPOP\"].sum() for n in range(1, 6)]\n",
    "print(pop_vals)"
   ]
  },
  {
   "cell_type": "code",
   "execution_count": 59,
   "id": "aeb0f1b3-a8e7-4531-8d0b-55963f0d3bb3",
   "metadata": {},
   "outputs": [
    {
     "name": "stdout",
     "output_type": "stream",
     "text": [
      "Percentage of missing values in each column:\n",
      "STATEFP20     0.000000\n",
      "COUNTYFP20    0.000000\n",
      "NAME20        0.000000\n",
      "G16PREDCLI    0.000000\n",
      "G16PRERTRU    0.000000\n",
      "G16PRELJOH    0.000000\n",
      "G16PREGSTE    0.000000\n",
      "G16PREOWRI    0.000000\n",
      "G16USSDBLU    0.000000\n",
      "G16USSRCAR    0.000000\n",
      "G16USSLLIO    0.000000\n",
      "G16USSGRUS    0.000000\n",
      "G16USSOWRI    0.000000\n",
      "geometry      0.000000\n",
      "TOTPOP        0.269179\n",
      "HISP          0.269179\n",
      "NH_WHITE      0.269179\n",
      "NH_BLACK      0.269179\n",
      "NH_AMIN       0.269179\n",
      "NH_ASIAN      0.269179\n",
      "NH_NHPI       0.269179\n",
      "NH_OTHER      0.269179\n",
      "NH_2MORE      0.269179\n",
      "VAP           0.269179\n",
      "HVAP          0.269179\n",
      "WVAP          0.269179\n",
      "BVAP          0.269179\n",
      "AMINVAP       0.269179\n",
      "ASIANVAP      0.269179\n",
      "NHPIVAP       0.269179\n",
      "OTHERVAP      0.269179\n",
      "2MOREVAP      0.269179\n",
      "CD            0.000000\n",
      "dtype: float64\n"
     ]
    }
   ],
   "source": [
    "missing_percentage = election_df.isnull().mean() * 100\n",
    "\n",
    "print(\"Percentage of missing values in each column:\")\n",
    "print(missing_percentage)"
   ]
  },
  {
   "cell_type": "code",
   "execution_count": 60,
   "id": "0272139c-a882-415e-8355-00271e97383b",
   "metadata": {},
   "outputs": [
    {
     "name": "stdout",
     "output_type": "stream",
     "text": [
      "\n",
      "Rows with missing values:\n",
      "    STATEFP20 COUNTYFP20             NAME20  G16PREDCLI  G16PRERTRU  \\\n",
      "500        09        009  East Haven 001-03         102          73   \n",
      "501        09        009  East Haven 005-03          53          33   \n",
      "\n",
      "     G16PRELJOH  G16PREGSTE  G16PREOWRI  G16USSDBLU  G16USSRCAR  ...  VAP  \\\n",
      "500           1           2           0         123          31  ...  NaN   \n",
      "501           1           0           0          64          13  ...  NaN   \n",
      "\n",
      "     HVAP  WVAP BVAP  AMINVAP  ASIANVAP  NHPIVAP  OTHERVAP  2MOREVAP  CD  \n",
      "500   NaN   NaN  NaN      NaN       NaN      NaN       NaN       NaN   3  \n",
      "501   NaN   NaN  NaN      NaN       NaN      NaN       NaN       NaN   3  \n",
      "\n",
      "[2 rows x 33 columns]\n",
      "\n",
      "Columns with missing values:\n",
      "Index(['TOTPOP', 'HISP', 'NH_WHITE', 'NH_BLACK', 'NH_AMIN', 'NH_ASIAN',\n",
      "       'NH_NHPI', 'NH_OTHER', 'NH_2MORE', 'VAP', 'HVAP', 'WVAP', 'BVAP',\n",
      "       'AMINVAP', 'ASIANVAP', 'NHPIVAP', 'OTHERVAP', '2MOREVAP'],\n",
      "      dtype='object')\n"
     ]
    }
   ],
   "source": [
    "# Show rows with missing values\n",
    "rows_with_missing_values = election_df[election_df.isnull().any(axis=1)]\n",
    "print(\"\\nRows with missing values:\")\n",
    "print(rows_with_missing_values)\n",
    "\n",
    "# Show columns with missing values\n",
    "columns_with_missing_values = election_df.columns[election_df.isnull().any()]\n",
    "print(\"\\nColumns with missing values:\")\n",
    "print(columns_with_missing_values)"
   ]
  },
  {
   "cell_type": "code",
   "execution_count": 61,
   "id": "2ecb17a8-dc89-407e-b226-a33ac19608e7",
   "metadata": {},
   "outputs": [],
   "source": [
    "election_df.fillna(0, inplace=True)"
   ]
  },
  {
   "cell_type": "code",
   "execution_count": 62,
   "id": "0a9a97cb-be43-4228-a21f-c05c0b08042d",
   "metadata": {},
   "outputs": [
    {
     "name": "stdout",
     "output_type": "stream",
     "text": [
      "Percentage of missing values in each column:\n",
      "STATEFP20     0.000000\n",
      "COUNTYFP20    0.000000\n",
      "NAME20        0.000000\n",
      "G16PREDCLI    0.000000\n",
      "G16PRERTRU    0.000000\n",
      "G16PRELJOH    0.000000\n",
      "G16PREGSTE    0.000000\n",
      "G16PREOWRI    0.000000\n",
      "G16USSDBLU    0.000000\n",
      "G16USSRCAR    0.000000\n",
      "G16USSLLIO    0.000000\n",
      "G16USSGRUS    0.000000\n",
      "G16USSOWRI    0.000000\n",
      "geometry      0.000000\n",
      "TOTPOP        0.269179\n",
      "HISP          0.269179\n",
      "NH_WHITE      0.269179\n",
      "NH_BLACK      0.269179\n",
      "NH_AMIN       0.269179\n",
      "NH_ASIAN      0.269179\n",
      "NH_NHPI       0.269179\n",
      "NH_OTHER      0.269179\n",
      "NH_2MORE      0.269179\n",
      "VAP           0.269179\n",
      "HVAP          0.269179\n",
      "WVAP          0.269179\n",
      "BVAP          0.269179\n",
      "AMINVAP       0.269179\n",
      "ASIANVAP      0.269179\n",
      "NHPIVAP       0.269179\n",
      "OTHERVAP      0.269179\n",
      "2MOREVAP      0.269179\n",
      "CD            0.000000\n",
      "dtype: float64\n"
     ]
    }
   ],
   "source": [
    "print(\"Percentage of missing values in each column:\")\n",
    "print(missing_percentage)"
   ]
  },
  {
   "cell_type": "code",
   "execution_count": 63,
   "id": "c85ce25b-15ab-4e85-8f4e-8135bc8a5eaa",
   "metadata": {},
   "outputs": [
    {
     "name": "stdout",
     "output_type": "stream",
     "text": [
      "\n",
      "Rows with missing values:\n",
      "Empty GeoDataFrame\n",
      "Columns: [STATEFP20, COUNTYFP20, NAME20, G16PREDCLI, G16PRERTRU, G16PRELJOH, G16PREGSTE, G16PREOWRI, G16USSDBLU, G16USSRCAR, G16USSLLIO, G16USSGRUS, G16USSOWRI, geometry, TOTPOP, HISP, NH_WHITE, NH_BLACK, NH_AMIN, NH_ASIAN, NH_NHPI, NH_OTHER, NH_2MORE, VAP, HVAP, WVAP, BVAP, AMINVAP, ASIANVAP, NHPIVAP, OTHERVAP, 2MOREVAP, CD]\n",
      "Index: []\n",
      "\n",
      "[0 rows x 33 columns]\n",
      "\n",
      "Columns with missing values:\n",
      "Index([], dtype='object')\n"
     ]
    }
   ],
   "source": [
    "rows_with_missing_values = election_df[election_df.isnull().any(axis=1)]\n",
    "print(\"\\nRows with missing values:\")\n",
    "print(rows_with_missing_values)\n",
    "\n",
    "# Show columns with missing values\n",
    "columns_with_missing_values = election_df.columns[election_df.isnull().any()]\n",
    "print(\"\\nColumns with missing values:\")\n",
    "print(columns_with_missing_values)"
   ]
  },
  {
   "cell_type": "code",
   "execution_count": 64,
   "id": "9638cc0a-9822-45c9-af93-d18e640296d5",
   "metadata": {},
   "outputs": [
    {
     "name": "stdout",
     "output_type": "stream",
     "text": [
      "<class 'geopandas.geodataframe.GeoDataFrame'>\n",
      "RangeIndex: 743 entries, 0 to 742\n",
      "Data columns (total 33 columns):\n",
      " #   Column      Non-Null Count  Dtype   \n",
      "---  ------      --------------  -----   \n",
      " 0   STATEFP20   743 non-null    object  \n",
      " 1   COUNTYFP20  743 non-null    object  \n",
      " 2   NAME20      743 non-null    object  \n",
      " 3   G16PREDCLI  743 non-null    int64   \n",
      " 4   G16PRERTRU  743 non-null    int64   \n",
      " 5   G16PRELJOH  743 non-null    int64   \n",
      " 6   G16PREGSTE  743 non-null    int64   \n",
      " 7   G16PREOWRI  743 non-null    int64   \n",
      " 8   G16USSDBLU  743 non-null    int64   \n",
      " 9   G16USSRCAR  743 non-null    int64   \n",
      " 10  G16USSLLIO  743 non-null    int64   \n",
      " 11  G16USSGRUS  743 non-null    int64   \n",
      " 12  G16USSOWRI  743 non-null    int64   \n",
      " 13  geometry    743 non-null    geometry\n",
      " 14  TOTPOP      743 non-null    float64 \n",
      " 15  HISP        743 non-null    float64 \n",
      " 16  NH_WHITE    743 non-null    float64 \n",
      " 17  NH_BLACK    743 non-null    float64 \n",
      " 18  NH_AMIN     743 non-null    float64 \n",
      " 19  NH_ASIAN    743 non-null    float64 \n",
      " 20  NH_NHPI     743 non-null    float64 \n",
      " 21  NH_OTHER    743 non-null    float64 \n",
      " 22  NH_2MORE    743 non-null    float64 \n",
      " 23  VAP         743 non-null    float64 \n",
      " 24  HVAP        743 non-null    float64 \n",
      " 25  WVAP        743 non-null    float64 \n",
      " 26  BVAP        743 non-null    float64 \n",
      " 27  AMINVAP     743 non-null    float64 \n",
      " 28  ASIANVAP    743 non-null    float64 \n",
      " 29  NHPIVAP     743 non-null    float64 \n",
      " 30  OTHERVAP    743 non-null    float64 \n",
      " 31  2MOREVAP    743 non-null    float64 \n",
      " 32  CD          743 non-null    int64   \n",
      "dtypes: float64(18), geometry(1), int64(11), object(3)\n",
      "memory usage: 191.7+ KB\n"
     ]
    }
   ],
   "source": [
    "election_df.info()"
   ]
  },
  {
   "cell_type": "code",
   "execution_count": 65,
   "id": "17621397-22ca-4f3f-acdd-2424f6cc1a8b",
   "metadata": {},
   "outputs": [],
   "source": [
    "election_df.to_file(\"./CT/CT_final.shp\")"
   ]
  },
  {
   "cell_type": "code",
   "execution_count": null,
   "id": "0ee23a54-aa6a-452c-9b41-0c9f89ac1b8b",
   "metadata": {},
   "outputs": [],
   "source": []
  }
 ],
 "metadata": {
  "kernelspec": {
   "display_name": "gerry",
   "language": "python",
   "name": "gerry"
  },
  "language_info": {
   "codemirror_mode": {
    "name": "ipython",
    "version": 3
   },
   "file_extension": ".py",
   "mimetype": "text/x-python",
   "name": "python",
   "nbconvert_exporter": "python",
   "pygments_lexer": "ipython3",
   "version": "3.11.5"
  }
 },
 "nbformat": 4,
 "nbformat_minor": 5
}
