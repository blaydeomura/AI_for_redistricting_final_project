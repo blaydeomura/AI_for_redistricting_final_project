{
 "cells": [
  {
   "cell_type": "code",
   "execution_count": 3,
   "id": "97212508-9a7f-4391-994c-ce267849deed",
   "metadata": {},
   "outputs": [
    {
     "name": "stdout",
     "output_type": "stream",
     "text": [
      "Requirement already satisfied: pandas in /Users/blaydeomura/miniconda3/envs/gerry/lib/python3.11/site-packages (2.2.0)\n",
      "Requirement already satisfied: numpy<2,>=1.23.2 in /Users/blaydeomura/miniconda3/envs/gerry/lib/python3.11/site-packages (from pandas) (1.26.3)\n",
      "Requirement already satisfied: python-dateutil>=2.8.2 in /Users/blaydeomura/miniconda3/envs/gerry/lib/python3.11/site-packages (from pandas) (2.8.2)\n",
      "Requirement already satisfied: pytz>=2020.1 in /Users/blaydeomura/miniconda3/envs/gerry/lib/python3.11/site-packages (from pandas) (2023.4)\n",
      "Requirement already satisfied: tzdata>=2022.7 in /Users/blaydeomura/miniconda3/envs/gerry/lib/python3.11/site-packages (from pandas) (2023.4)\n",
      "Requirement already satisfied: six>=1.5 in /Users/blaydeomura/miniconda3/envs/gerry/lib/python3.11/site-packages (from python-dateutil>=2.8.2->pandas) (1.16.0)\n",
      "Note: you may need to restart the kernel to use updated packages.\n"
     ]
    }
   ],
   "source": [
    "pip install pandas"
   ]
  },
  {
   "cell_type": "code",
   "execution_count": 36,
   "id": "af334be0-0f7d-4f15-94f7-ccd06fb638e1",
   "metadata": {},
   "outputs": [],
   "source": [
    "import pandas as pd\n",
    "import geopandas as gpd\n",
    "import maup\n",
    "import time"
   ]
  },
  {
   "cell_type": "code",
   "execution_count": 37,
   "id": "ded0aea0-0cfd-473f-ad89-57ac9732a001",
   "metadata": {},
   "outputs": [],
   "source": [
    "# from class\n",
    "from gerrychain import Graph, Partition, proposals, updaters, constraints, accept, MarkovChain, Election\n",
    "from gerrychain.updaters import cut_edges, Tally\n",
    "from gerrychain.proposals import recom\n",
    "from gerrychain.accept import always_accept\n",
    "from functools import partial"
   ]
  },
  {
   "cell_type": "code",
   "execution_count": 38,
   "id": "e352e1f7-6595-4c7f-9b8a-fdc1641837ac",
   "metadata": {},
   "outputs": [
    {
     "name": "stdout",
     "output_type": "stream",
     "text": [
      "    STATEFP20 COUNTYFP20              NAME20  G20PRED  G20PRER  TOTPOP  \\\n",
      "0          09        011    Montville 004-00     1486     1547  6089.0   \n",
      "1          09        005  Barkhamsted 001-00     1154     1228  3647.0   \n",
      "2          09        005    Bethlehem 001-00      937     1393  3385.0   \n",
      "3          09        005  Bridgewater 001-00      667      549  1662.0   \n",
      "4          09        005       Canaan 001-00      437      209  1080.0   \n",
      "..        ...        ...                 ...      ...      ...     ...   \n",
      "736        09        009    Waterbury 071-03     1536     1528  8128.0   \n",
      "737        09        009    New Haven 001-02      160        8  2336.0   \n",
      "738        09        009    New Haven 007-02     2133      192  6867.0   \n",
      "739        09        009    New Haven 002-02     1150      103  3083.0   \n",
      "740        09        009    New Haven 022-01      489       38  4088.0   \n",
      "\n",
      "       HISP  NH_WHITE  NH_BLACK  NH_AMIN  ...    HVAP    WVAP   BVAP  AMINVAP  \\\n",
      "0     461.0    4805.0     208.0     70.0  ...   277.0  3942.0  144.0     47.0   \n",
      "1      84.0    3382.0      11.0      1.0  ...    56.0  2777.0    7.0      1.0   \n",
      "2     104.0    3104.0      31.0      4.0  ...    63.0  2660.0   24.0      3.0   \n",
      "3      41.0    1520.0      14.0      1.0  ...    37.0  1333.0   14.0      1.0   \n",
      "4      56.0     975.0      15.0      3.0  ...    33.0   830.0   15.0      0.0   \n",
      "..      ...       ...       ...      ...  ...     ...     ...    ...      ...   \n",
      "736  2194.0    4243.0    1076.0     18.0  ...  1483.0  3715.0  809.0      8.0   \n",
      "737   253.0    1032.0     178.0     13.0  ...   246.0  1017.0  178.0     13.0   \n",
      "738   720.0    3584.0     434.0     19.0  ...   638.0  3466.0  414.0     19.0   \n",
      "739   536.0    1134.0     826.0      7.0  ...   414.0  1097.0  685.0      6.0   \n",
      "740   583.0    1536.0     869.0     28.0  ...   502.0  1503.0  800.0     24.0   \n",
      "\n",
      "     ASIANVAP  NHPIVAP  OTHERVAP  2MOREVAP  CD  \\\n",
      "0       133.0      3.0      20.0     241.0   2   \n",
      "1        22.0      0.0      10.0      91.0   1   \n",
      "2        20.0      0.0      12.0      72.0   5   \n",
      "3         8.0      0.0       8.0      54.0   5   \n",
      "4         1.0      0.0       7.0      12.0   5   \n",
      "..        ...      ...       ...       ...  ..   \n",
      "736     121.0      1.0      78.0     243.0   3   \n",
      "737     745.0      1.0      18.0      85.0   3   \n",
      "738    1680.0      3.0      33.0     274.0   3   \n",
      "739     361.0      2.0      28.0     155.0   3   \n",
      "740     882.0      2.0      28.0     117.0   3   \n",
      "\n",
      "                                              geometry  \n",
      "0    POLYGON ((348403.457 228647.499, 348407.972 22...  \n",
      "1    POLYGON ((279680.236 269883.609, 279723.787 27...  \n",
      "2    POLYGON ((262206.017 244850.709, 262500.850 24...  \n",
      "3    POLYGON ((250165.083 230757.574, 250179.271 23...  \n",
      "4    POLYGON ((253149.257 277750.029, 253155.444 27...  \n",
      "..                                                 ...  \n",
      "736  POLYGON ((279051.885 228100.976, 278980.002 22...  \n",
      "737  POLYGON ((290345.636 205999.987, 290494.341 20...  \n",
      "738  POLYGON ((289854.636 204501.132, 289839.509 20...  \n",
      "739  MULTIPOLYGON (((289003.751 206076.314, 289062....  \n",
      "740  POLYGON ((289090.752 204920.998, 289090.663 20...  \n",
      "\n",
      "[741 rows x 25 columns]\n"
     ]
    }
   ],
   "source": [
    "maup.progress.enabled = True\n",
    "\n",
    "ct_df = gpd.read_file(\"./CT/CT.shp\")\n",
    "\n",
    "print(ct_df)"
   ]
  },
  {
   "cell_type": "code",
   "execution_count": 39,
   "id": "efc602f9-118e-4864-822a-ce90d92f3286",
   "metadata": {},
   "outputs": [
    {
     "name": "stdout",
     "output_type": "stream",
     "text": [
      "Index(['STATEFP20', 'COUNTYFP20', 'NAME20', 'G20PRED', 'G20PRER', 'TOTPOP',\n",
      "       'HISP', 'NH_WHITE', 'NH_BLACK', 'NH_AMIN', 'NH_ASIAN', 'NH_NHPI',\n",
      "       'NH_OTHER', 'NH_2MORE', 'VAP', 'HVAP', 'WVAP', 'BVAP', 'AMINVAP',\n",
      "       'ASIANVAP', 'NHPIVAP', 'OTHERVAP', '2MOREVAP', 'CD', 'geometry'],\n",
      "      dtype='object')\n"
     ]
    }
   ],
   "source": [
    "# See all column names\n",
    "print(ct_df.columns)"
   ]
  },
  {
   "cell_type": "markdown",
   "id": "c21ac392-c951-438e-b760-af380430b219",
   "metadata": {},
   "source": [
    "# Partition and updaters"
   ]
  },
  {
   "cell_type": "code",
   "execution_count": 40,
   "id": "3670a0b4-4643-4ef4-8442-e6b474346372",
   "metadata": {},
   "outputs": [],
   "source": [
    "graph = Graph.from_geodataframe(ct_df)\n",
    "\n",
    "# updaters\n",
    "updaters = {\n",
    "    \"cut_edges\": cut_edges,\n",
    "    \"population\": Tally(\"TOTPOP\", alias=\"population\"),\n",
    "}\n",
    "\n",
    "# Define the election object\n",
    "election = Election(\"2020_Presidential\", {\"Democratic\": \"G20PRED\", \"Republican\": \"G20PRER\"})\n",
    "\n",
    "# Define your updaters dictionary\n",
    "updaters = {\"population\": Tally(\"TOTPOP\", alias=\"population\"), \"2020_Presidential\": election}\n",
    "\n",
    "# Create an initial partition\n",
    "initial_partition = Partition(graph, assignment=\"CD\", updaters=updaters)"
   ]
  },
  {
   "cell_type": "markdown",
   "id": "56ae3e70-f1a5-46ff-a153-7048ac14bf1b",
   "metadata": {},
   "source": [
    "# Efficiency Gap Calculation"
   ]
  },
  {
   "cell_type": "code",
   "execution_count": 42,
   "id": "f6ea540d-5973-4915-931f-3509388297ac",
   "metadata": {},
   "outputs": [
    {
     "name": "stdout",
     "output_type": "stream",
     "text": [
      "Efficiency Gap: 0.2960990182384431\n"
     ]
    }
   ],
   "source": [
    "eff_gap = initial_partition[\"2020_Presidential\"].efficiency_gap()\n",
    "\n",
    "print(f\"Efficiency Gap: {eff_gap}\")"
   ]
  },
  {
   "cell_type": "markdown",
   "id": "b97b3364-b01e-414d-8efd-ec428417c03c",
   "metadata": {},
   "source": [
    "# Mean Median Difference Calculation"
   ]
  },
  {
   "cell_type": "code",
   "execution_count": 43,
   "id": "184f84e6-26ad-415b-aaeb-e7d4412e23c0",
   "metadata": {},
   "outputs": [
    {
     "name": "stdout",
     "output_type": "stream",
     "text": [
      "Mean-Median Difference: -0.0008308592017549632\n"
     ]
    }
   ],
   "source": [
    "mean_median_diff = initial_partition[\"2020_Presidential\"].mean_median()\n",
    "\n",
    "print(f\"Mean-Median Difference: {mean_median_diff}\")"
   ]
  },
  {
   "cell_type": "markdown",
   "id": "2eac1064-7656-45a8-8a36-ce44698dbf01",
   "metadata": {},
   "source": [
    "# Democratic vs Republican Won Districts"
   ]
  },
  {
   "cell_type": "code",
   "execution_count": 47,
   "id": "8111be1a-053f-456f-b368-550534cb424e",
   "metadata": {},
   "outputs": [
    {
     "name": "stdout",
     "output_type": "stream",
     "text": [
      "Democratic-won Districts: 5\n",
      "Republican-won Districts: 0\n"
     ]
    }
   ],
   "source": [
    "# The ElectionResults object for \"2020_Presidential\"\n",
    "election_results = initial_partition[\"2020_Presidential\"]\n",
    "\n",
    "# Use the wins method to get the number of districts won by each party\n",
    "dem_won_districts = election_results.wins(\"Democratic\")\n",
    "rep_won_districts = election_results.wins(\"Republican\")\n",
    "\n",
    "# Print out the counts\n",
    "print(f\"Democratic-won Districts: {dem_won_districts}\")\n",
    "print(f\"Republican-won Districts: {rep_won_districts}\")"
   ]
  },
  {
   "cell_type": "markdown",
   "id": "f3312849-f2b6-4511-af96-4f7390ca23e4",
   "metadata": {},
   "source": [
    "# Number of Cut Edges"
   ]
  },
  {
   "cell_type": "code",
   "execution_count": 48,
   "id": "d2f4d451-622f-40ce-b14a-2df5e2395931",
   "metadata": {},
   "outputs": [
    {
     "name": "stdout",
     "output_type": "stream",
     "text": [
      "Number of cut edges: 205\n"
     ]
    }
   ],
   "source": [
    "# Ccut edges can be accessed from the partition object\n",
    "number_of_cut_edges = len(initial_partition[\"cut_edges\"])\n",
    "\n",
    "print(f\"Number of cut edges: {number_of_cut_edges}\")"
   ]
  },
  {
   "cell_type": "code",
   "execution_count": null,
   "id": "eeb14df5-2674-4ef1-87f0-8f8cf801dd6b",
   "metadata": {},
   "outputs": [],
   "source": []
  }
 ],
 "metadata": {
  "kernelspec": {
   "display_name": "gerry",
   "language": "python",
   "name": "gerry"
  },
  "language_info": {
   "codemirror_mode": {
    "name": "ipython",
    "version": 3
   },
   "file_extension": ".py",
   "mimetype": "text/x-python",
   "name": "python",
   "nbconvert_exporter": "python",
   "pygments_lexer": "ipython3",
   "version": "3.11.5"
  }
 },
 "nbformat": 4,
 "nbformat_minor": 5
}
