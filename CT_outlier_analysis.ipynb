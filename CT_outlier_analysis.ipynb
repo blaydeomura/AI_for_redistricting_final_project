{
 "cells": [
  {
   "cell_type": "markdown",
   "id": "be01c009-4617-4a46-85df-60cce9209eb1",
   "metadata": {},
   "source": [
    "# Connecticut Outlier Analysis \n",
    "* @authors: Blayde Omura and Lisa Jurca. AI for redistricting final project.\n",
    "* Outlier analysis with built-in gerry chain libraries.\n",
    "* Includes metricts of: efficiency gap, mean-median, Democratic vs Republican won districts, and number of cut edges."
   ]
  },
  {
   "cell_type": "code",
   "execution_count": 3,
   "id": "af334be0-0f7d-4f15-94f7-ccd06fb638e1",
   "metadata": {},
   "outputs": [],
   "source": [
    "import pandas as pd\n",
    "import geopandas as gpd\n",
    "import maup\n",
    "import time"
   ]
  },
  {
   "cell_type": "code",
   "execution_count": 4,
   "id": "ded0aea0-0cfd-473f-ad89-57ac9732a001",
   "metadata": {},
   "outputs": [],
   "source": [
    "from gerrychain import Graph, Partition, proposals, updaters, constraints, accept, MarkovChain, Election\n",
    "from gerrychain.updaters import cut_edges, Tally\n",
    "from gerrychain.proposals import recom\n",
    "from gerrychain.accept import always_accept\n",
    "from functools import partial"
   ]
  },
  {
   "cell_type": "markdown",
   "id": "7ab2be32-ec64-4993-b049-63e96f317208",
   "metadata": {},
   "source": [
    "Import our CT shape file and do a quick check on contents"
   ]
  },
  {
   "cell_type": "code",
   "execution_count": 5,
   "id": "e352e1f7-6595-4c7f-9b8a-fdc1641837ac",
   "metadata": {},
   "outputs": [
    {
     "name": "stdout",
     "output_type": "stream",
     "text": [
      "    STATEFP20 COUNTYFP20              NAME20  G16PREDCLI  G16PRERTRU  \\\n",
      "0          09        011    Montville 004-00        1175        1572   \n",
      "1          09        005  Barkhamsted 001-00         905        1157   \n",
      "2          09        005    Bethlehem 001-00         801        1405   \n",
      "3          09        005  Bridgewater 001-00         518         571   \n",
      "4          09        005       Canaan 001-00         357         203   \n",
      "..        ...        ...                 ...         ...         ...   \n",
      "738        09        009    Waterbury 071-02         445         419   \n",
      "739        09        009    Waterbury 075-04        1102         491   \n",
      "740        09        009    Waterbury 071-03        1328        1449   \n",
      "741        09        009    New Haven 022-01         691          19   \n",
      "742        09        009    New Haven 002-02        1258          75   \n",
      "\n",
      "     G16PRELJOH  G16PREGSTE  G16PREOWRI  G16USSDBLU  G16USSRCAR  ...    HVAP  \\\n",
      "0           120          52           0        1659        1111  ...   277.0   \n",
      "1            94          37           7        1103        1007  ...    56.0   \n",
      "2            59          47           5         998        1196  ...    63.0   \n",
      "3            33          17           2         631         467  ...    37.0   \n",
      "4            23           9           0         383         172  ...    33.0   \n",
      "..          ...         ...         ...         ...         ...  ...     ...   \n",
      "738          19          13           0         538         292  ...   643.0   \n",
      "739          23          17           0        1142         327  ...  2387.0   \n",
      "740          69          15           0        1634        1064  ...  1483.0   \n",
      "741           7          14           5         653          28  ...   502.0   \n",
      "742          13          23           1        1206          81  ...   414.0   \n",
      "\n",
      "       WVAP   BVAP  AMINVAP  ASIANVAP  NHPIVAP  OTHERVAP  2MOREVAP  CD  \\\n",
      "0    3942.0  144.0     47.0     133.0      3.0      20.0     241.0   2   \n",
      "1    2777.0    7.0      1.0      22.0      0.0      10.0      91.0   1   \n",
      "2    2660.0   24.0      3.0      20.0      0.0      12.0      72.0   5   \n",
      "3    1333.0   14.0      1.0       8.0      0.0       8.0      54.0   5   \n",
      "4     830.0   15.0      0.0       1.0      0.0       7.0      12.0   5   \n",
      "..      ...    ...      ...       ...      ...       ...       ...  ..   \n",
      "738  1017.0  270.0      0.0      44.0      0.0      73.0     133.0   3   \n",
      "739  1450.0  839.0     18.0     108.0      2.0     167.0     215.0   3   \n",
      "740  3715.0  809.0      8.0     121.0      1.0      78.0     243.0   3   \n",
      "741  1503.0  800.0     24.0     882.0      2.0      28.0     117.0   3   \n",
      "742  1097.0  685.0      6.0     361.0      2.0      28.0     155.0   3   \n",
      "\n",
      "                                              geometry  \n",
      "0    POLYGON ((348403.457 228647.499, 348407.972 22...  \n",
      "1    POLYGON ((279680.236 269883.609, 279723.787 27...  \n",
      "2    POLYGON ((262206.017 244850.709, 262500.850 24...  \n",
      "3    POLYGON ((250165.083 230757.574, 250179.271 23...  \n",
      "4    POLYGON ((253149.257 277750.029, 253155.444 27...  \n",
      "..                                                 ...  \n",
      "738  POLYGON ((279415.335 228122.899, 279408.073 22...  \n",
      "739  POLYGON ((280868.103 229888.860, 280934.532 22...  \n",
      "740  POLYGON ((279051.885 228100.976, 278980.002 22...  \n",
      "741  POLYGON ((289090.752 204920.998, 289090.663 20...  \n",
      "742  MULTIPOLYGON (((289003.751 206076.314, 289062....  \n",
      "\n",
      "[743 rows x 33 columns]\n"
     ]
    }
   ],
   "source": [
    "maup.progress.enabled = True\n",
    "\n",
    "ct_df = gpd.read_file(\"./CT/CT.shp\")\n",
    "\n",
    "print(ct_df)"
   ]
  },
  {
   "cell_type": "markdown",
   "id": "0fc4ad77-3545-480e-9b85-755b953c813e",
   "metadata": {},
   "source": [
    "Let's make sure the columns look good"
   ]
  },
  {
   "cell_type": "code",
   "execution_count": 6,
   "id": "efc602f9-118e-4864-822a-ce90d92f3286",
   "metadata": {},
   "outputs": [
    {
     "name": "stdout",
     "output_type": "stream",
     "text": [
      "Index(['STATEFP20', 'COUNTYFP20', 'NAME20', 'G16PREDCLI', 'G16PRERTRU',\n",
      "       'G16PRELJOH', 'G16PREGSTE', 'G16PREOWRI', 'G16USSDBLU', 'G16USSRCAR',\n",
      "       'G16USSLLIO', 'G16USSGRUS', 'G16USSOWRI', 'TOTPOP', 'HISP', 'NH_WHITE',\n",
      "       'NH_BLACK', 'NH_AMIN', 'NH_ASIAN', 'NH_NHPI', 'NH_OTHER', 'NH_2MORE',\n",
      "       'VAP', 'HVAP', 'WVAP', 'BVAP', 'AMINVAP', 'ASIANVAP', 'NHPIVAP',\n",
      "       'OTHERVAP', '2MOREVAP', 'CD', 'geometry'],\n",
      "      dtype='object')\n"
     ]
    }
   ],
   "source": [
    "print(ct_df.columns)"
   ]
  },
  {
   "cell_type": "markdown",
   "id": "c21ac392-c951-438e-b760-af380430b219",
   "metadata": {},
   "source": [
    "# Partition and updaters"
   ]
  },
  {
   "cell_type": "code",
   "execution_count": 9,
   "id": "3670a0b4-4643-4ef4-8442-e6b474346372",
   "metadata": {},
   "outputs": [],
   "source": [
    "graph = Graph.from_geodataframe(ct_df)\n",
    "\n",
    "# updaters\n",
    "updaters = {\n",
    "    \"cut_edges\": cut_edges,\n",
    "    \"population\": Tally(\"TOTPOP\", alias=\"population\"),\n",
    "}\n",
    "\n",
    "# Define the election object\n",
    "elections = [\n",
    "    Election(\"2016_Presidential\", {\"Democratic\": \"G16PREDCLI\", \"Republican\": \"G16PRERTRU\"}),\n",
    "    Election(\"2016_Senate\", {\"Democratic\": \"G16USSDBLU\", \"Republican\": \"G16USSRCAR\"})\n",
    "]\n",
    "\n",
    "# Define your updaters dictionary\n",
    "# updaters = {\"population\": Tally(\"TOTPOP\", alias=\"population\"), \"2016_Presidential\": election, \"2016_Senate\": election}\n",
    "updaters = {\"population\": Tally(\"TOTPOP\", alias=\"population\")}\n",
    "\n",
    "election_updaters = {election.name: election for election in elections}\n",
    "updaters.update(election_updaters)\n",
    "\n",
    "# Create an initial partition\n",
    "initial_partition = Partition(graph, assignment=\"CD\", updaters=updaters)"
   ]
  },
  {
   "cell_type": "markdown",
   "id": "56ae3e70-f1a5-46ff-a153-7048ac14bf1b",
   "metadata": {},
   "source": [
    "# Efficiency Gap Calculation"
   ]
  },
  {
   "cell_type": "code",
   "execution_count": 10,
   "id": "f6ea540d-5973-4915-931f-3509388297ac",
   "metadata": {},
   "outputs": [
    {
     "name": "stdout",
     "output_type": "stream",
     "text": [
      "Presidential Efficiency Gap: 0.35716904965472723\n",
      "Senate Efficiency Gap: 0.20788267732421292\n"
     ]
    }
   ],
   "source": [
    "pres_eff_gap = initial_partition[\"2016_Presidential\"].efficiency_gap()\n",
    "sen_eff_gap = initial_partition[\"2016_Senate\"].efficiency_gap()\n",
    "\n",
    "print(f\"Presidential Efficiency Gap: {pres_eff_gap}\")\n",
    "print(f\"Senate Efficiency Gap: {sen_eff_gap}\")"
   ]
  },
  {
   "cell_type": "markdown",
   "id": "b97b3364-b01e-414d-8efd-ec428417c03c",
   "metadata": {},
   "source": [
    "# Mean Median Difference Calculation"
   ]
  },
  {
   "cell_type": "code",
   "execution_count": 11,
   "id": "184f84e6-26ad-415b-aaeb-e7d4412e23c0",
   "metadata": {},
   "outputs": [
    {
     "name": "stdout",
     "output_type": "stream",
     "text": [
      "Presidential Mean-Median Difference: 0.0025703346431988905\n",
      "Senate Mean-Median Difference: -0.014978682744356098\n"
     ]
    }
   ],
   "source": [
    "pres_mean_median_diff = initial_partition[\"2016_Presidential\"].mean_median()\n",
    "sen_mean_median_diff = initial_partition[\"2016_Senate\"].mean_median()\n",
    "\n",
    "print(f\"Presidential Mean-Median Difference: {pres_mean_median_diff}\")\n",
    "print(f\"Senate Mean-Median Difference: {sen_mean_median_diff}\")"
   ]
  },
  {
   "cell_type": "markdown",
   "id": "2eac1064-7656-45a8-8a36-ce44698dbf01",
   "metadata": {},
   "source": [
    "# Democratic vs Republican Won Districts"
   ]
  },
  {
   "cell_type": "code",
   "execution_count": 13,
   "id": "8111be1a-053f-456f-b368-550534cb424e",
   "metadata": {},
   "outputs": [
    {
     "name": "stdout",
     "output_type": "stream",
     "text": [
      "Presidential Democratic-won Districts: 5\n",
      "Presidential Republican-won Districts: 0\n",
      "Senate Democratic-won Districts: 5\n",
      "Senate Republican-won Districts: 0\n"
     ]
    }
   ],
   "source": [
    "# The ElectionResults object for \"2020_Presidential\"\n",
    "pres_election_results = initial_partition[\"2016_Presidential\"]\n",
    "sen_election_results = initial_partition[\"2016_Senate\"]\n",
    "\n",
    "\n",
    "# Use the wins method to get the number of districts won by each party\n",
    "pres_dem_won_districts = pres_election_results.wins(\"Democratic\")\n",
    "pres_rep_won_districts = pres_election_results.wins(\"Republican\")\n",
    "\n",
    "sen_dem_won_districts = sen_election_results.wins(\"Democratic\")\n",
    "sen_rep_won_districts = sen_election_results.wins(\"Republican\")\n",
    "\n",
    "# Print out the counts\n",
    "print(f\"Presidential Democratic-won Districts: {pres_dem_won_districts}\")\n",
    "print(f\"Presidential Republican-won Districts: {pres_rep_won_districts}\")\n",
    "print(f\"Senate Democratic-won Districts: {sen_dem_won_districts}\")\n",
    "print(f\"Senate Republican-won Districts: {sen_rep_won_districts}\")"
   ]
  },
  {
   "cell_type": "markdown",
   "id": "f3312849-f2b6-4511-af96-4f7390ca23e4",
   "metadata": {},
   "source": [
    "# Number of Cut Edges"
   ]
  },
  {
   "cell_type": "code",
   "execution_count": 14,
   "id": "d2f4d451-622f-40ce-b14a-2df5e2395931",
   "metadata": {},
   "outputs": [
    {
     "name": "stdout",
     "output_type": "stream",
     "text": [
      "Number of cut edges: 206\n"
     ]
    }
   ],
   "source": [
    "# Ccut edges can be accessed from the partition object\n",
    "number_of_cut_edges = len(initial_partition[\"cut_edges\"])\n",
    "\n",
    "print(f\"Number of cut edges: {number_of_cut_edges}\")"
   ]
  }
 ],
 "metadata": {
  "kernelspec": {
   "display_name": "gerry",
   "language": "python",
   "name": "gerry"
  },
  "language_info": {
   "codemirror_mode": {
    "name": "ipython",
    "version": 3
   },
   "file_extension": ".py",
   "mimetype": "text/x-python",
   "name": "python",
   "nbconvert_exporter": "python",
   "pygments_lexer": "ipython3",
   "version": "3.11.5"
  }
 },
 "nbformat": 4,
 "nbformat_minor": 5
}
