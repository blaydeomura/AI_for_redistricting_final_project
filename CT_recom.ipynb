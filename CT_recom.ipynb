{
 "cells": [
  {
   "cell_type": "markdown",
   "id": "34a5f939-144c-4fc3-b9d6-234d313151ac",
   "metadata": {},
   "source": [
    "# Running a ReCom Chain on Connecticut\n",
    "* Set Up the chain\n",
    "* @author Blayde Omura and Lisa Jurca\n",
    "* AI for Redistricting final project on Connecticut"
   ]
  },
  {
   "cell_type": "code",
   "execution_count": 2,
   "id": "b1b776aa-876f-4ccf-9638-18c92b950e53",
   "metadata": {},
   "outputs": [],
   "source": [
    "from gerrychain.random import random\n",
    "import matplotlib.pyplot as plt\n",
    "from gerrychain import (GeographicPartition, Partition, Graph, MarkovChain,\n",
    "                        proposals, updaters, constraints, accept, Election)\n",
    "from gerrychain.proposals import recom\n",
    "from functools import partial\n",
    "import pandas as pd\n",
    "import geopandas as gpd\n",
    "import csv\n",
    "import os\n",
    "import datetime  #For keeping track of runtime\n",
    "import tqdm # for progress bar\n",
    "random.seed(12345678)"
   ]
  },
  {
   "cell_type": "markdown",
   "id": "0ed00358-e496-4a8a-a06e-b8f306c9b562",
   "metadata": {},
   "source": [
    "Create a directory that stores files for analysis"
   ]
  },
  {
   "cell_type": "code",
   "execution_count": 3,
   "id": "fda72d6e-0266-4acb-b999-f8fa1aaee4b1",
   "metadata": {},
   "outputs": [],
   "source": [
    "outdir=\"./CT_recom\""
   ]
  },
  {
   "cell_type": "markdown",
   "id": "e53992e3-1c4d-4acc-baff-34ba22bc74fb",
   "metadata": {},
   "source": [
    "Here are parameters that we might change later"
   ]
  },
  {
   "cell_type": "code",
   "execution_count": 4,
   "id": "716ccd66-3af5-4e5f-9839-60f8c2f3d4a4",
   "metadata": {},
   "outputs": [],
   "source": [
    "total_steps_in_run=500\n",
    "save_district_graph_mod=1\n",
    "save_district_plot_mod=100 # save every hundreth map"
   ]
  },
  {
   "cell_type": "markdown",
   "id": "a75b4356-c969-4b8f-ab3c-550f50f376a4",
   "metadata": {},
   "source": [
    "Import the graph "
   ]
  },
  {
   "cell_type": "code",
   "execution_count": 7,
   "id": "b8f8d109-d29c-4c32-91c2-3734bd830e85",
   "metadata": {},
   "outputs": [
    {
     "name": "stdout",
     "output_type": "stream",
     "text": [
      "Index(['STATEFP20', 'COUNTYFP20', 'NAME20', 'G16PREDCLI', 'G16PRERTRU',\n",
      "       'G16PRELJOH', 'G16PREGSTE', 'G16PREOWRI', 'G16USSDBLU', 'G16USSRCAR',\n",
      "       'G16USSLLIO', 'G16USSGRUS', 'G16USSOWRI', 'TOTPOP', 'HISP', 'NH_WHITE',\n",
      "       'NH_BLACK', 'NH_AMIN', 'NH_ASIAN', 'NH_NHPI', 'NH_OTHER', 'NH_2MORE',\n",
      "       'VAP', 'HVAP', 'WVAP', 'BVAP', 'AMINVAP', 'ASIANVAP', 'NHPIVAP',\n",
      "       'OTHERVAP', '2MOREVAP', 'CD', 'geometry'],\n",
      "      dtype='object')\n"
     ]
    }
   ],
   "source": [
    "os.makedirs(outdir, exist_ok=True)\n",
    "ct_df = gpd.read_file(\"./CT/CT.shp\")\n",
    "\n",
    "print(ct_df.columns)\n",
    "\n",
    "graph = Graph.from_geodataframe(ct_df)"
   ]
  },
  {
   "cell_type": "markdown",
   "id": "c5cdbc89-6b7d-4545-a054-ca12edbe9b2c",
   "metadata": {},
   "source": [
    "These are the elections we have available:"
   ]
  },
  {
   "cell_type": "code",
   "execution_count": 8,
   "id": "6d8f06f9-0462-4a70-9893-f41d4e4bd396",
   "metadata": {},
   "outputs": [],
   "source": [
    "elections = [\n",
    "    Election(\"SEN16\", {\"Democratic\": \"G16USSDBLU\", \"Republican\": \"G16USSRCAR\"}),\n",
    "    Election(\"PRES16\", {\"Democratic\": \"G16PREDCLI\", \"Republican\": \"G16PRERTRU\"})\n",
    "]"
   ]
  },
  {
   "cell_type": "markdown",
   "id": "941ed951-4b89-459f-bf8e-0fe487107123",
   "metadata": {},
   "source": [
    "\"TOT_POP\" is the population column from our shapefile"
   ]
  },
  {
   "cell_type": "code",
   "execution_count": 9,
   "id": "3ddf8148-d94a-4a68-966e-cc21bf3f57ae",
   "metadata": {},
   "outputs": [],
   "source": [
    "my_updaters = {\"population\": updaters.Tally(\"TOTPOP\", alias=\"population\")} # updaters, need to keep total population"
   ]
  },
  {
   "cell_type": "markdown",
   "id": "84cadd82-49f5-42bc-8c60-9a88e22aef5d",
   "metadata": {},
   "source": [
    "Election updaters, for computing election results using the vote totals from our shapefile."
   ]
  },
  {
   "cell_type": "code",
   "execution_count": 10,
   "id": "b7d13da3-8cd9-4aad-b0b8-cd6bbadab338",
   "metadata": {},
   "outputs": [],
   "source": [
    "election_updaters = {election.name: election for election in elections}\n",
    "my_updaters.update(election_updaters)"
   ]
  },
  {
   "cell_type": "markdown",
   "id": "a154fcd4-ea7d-4423-81f9-956ac9e94046",
   "metadata": {},
   "source": [
    "Create the partition"
   ]
  },
  {
   "cell_type": "code",
   "execution_count": 11,
   "id": "9786f0ee-158c-41d1-bdac-93cb3b2188ef",
   "metadata": {},
   "outputs": [],
   "source": [
    "initial_partition = GeographicPartition(graph, \n",
    "                                        assignment= \"CD\", \n",
    "                                        updaters=my_updaters)"
   ]
  },
  {
   "cell_type": "markdown",
   "id": "b32733fa-05e3-425c-8984-47ca92b44d8f",
   "metadata": {},
   "source": [
    "The ReCom proposal needs to know the ideal population for the districts so that we can improve speed by bailing early on unbalanced partitions."
   ]
  },
  {
   "cell_type": "code",
   "execution_count": 12,
   "id": "f1018808-895a-49d7-bbc9-665479abdbf4",
   "metadata": {},
   "outputs": [],
   "source": [
    "ideal_population = sum(initial_partition[\"population\"].values()) / len(initial_partition) # total pop / num districts"
   ]
  },
  {
   "cell_type": "markdown",
   "id": "72b6909e-e477-450a-b2f8-15504532641c",
   "metadata": {},
   "source": [
    "Create a proposal"
   ]
  },
  {
   "cell_type": "code",
   "execution_count": 13,
   "id": "c64d9353-4225-47e7-934c-d098f99b5e46",
   "metadata": {},
   "outputs": [],
   "source": [
    "proposal = partial(recom,\n",
    "                   pop_col=\"TOTPOP\",\n",
    "                   pop_target=ideal_population,\n",
    "                   epsilon=0.02,  # can change to 5%\n",
    "                   node_repeats=2\n",
    "                  )"
   ]
  },
  {
   "cell_type": "code",
   "execution_count": 14,
   "id": "ebfed106-3281-46af-b8ef-afe214097a4e",
   "metadata": {},
   "outputs": [],
   "source": [
    "compactness_bound = constraints.UpperBound(\n",
    "    lambda p: len(p[\"cut_edges\"]),\n",
    "    2*len(initial_partition[\"cut_edges\"])\n",
    ")"
   ]
  },
  {
   "cell_type": "code",
   "execution_count": 15,
   "id": "656cfe32-e568-4cc3-872f-84bef9f329b8",
   "metadata": {},
   "outputs": [],
   "source": [
    "pop_constraint = constraints.within_percent_of_ideal_population(initial_partition, 0.02)"
   ]
  },
  {
   "cell_type": "markdown",
   "id": "d9152331-fea9-4025-a6aa-d3a5eb473bb4",
   "metadata": {},
   "source": [
    "Create the markov chain"
   ]
  },
  {
   "cell_type": "code",
   "execution_count": 16,
   "id": "051ff8bb-34fc-4642-9461-07e5b521c998",
   "metadata": {},
   "outputs": [],
   "source": [
    "chain = MarkovChain( # markov chain\n",
    "    proposal=proposal,\n",
    "    constraints=[\n",
    "        pop_constraint,\n",
    "        compactness_bound\n",
    "    ],\n",
    "    accept=accept.always_accept,\n",
    "    initial_state=initial_partition,\n",
    "    total_steps=total_steps_in_run\n",
    "    )"
   ]
  },
  {
   "cell_type": "markdown",
   "id": "8e018f68-b30b-42b2-907e-6e2e97dc3619",
   "metadata": {},
   "source": [
    "## Signature of Gerrymandering - MARGINAL BOX PLOTS"
   ]
  },
  {
   "cell_type": "code",
   "execution_count": 17,
   "id": "df419ac6-0b45-4b74-a1d5-9c7369702ffb",
   "metadata": {},
   "outputs": [
    {
     "data": {
      "application/vnd.jupyter.widget-view+json": {
       "model_id": "dfcc9154270547409569d38e354ea99c",
       "version_major": 2,
       "version_minor": 0
      },
      "text/plain": [
       "  0%|          | 0/500 [00:00<?, ?it/s]"
      ]
     },
     "metadata": {},
     "output_type": "display_data"
    }
   ],
   "source": [
    "# data frame that keeps track of percent democratic and sort it\n",
    "data = pd.DataFrame(\n",
    "    sorted(partition[\"SEN16\"].percents(\"Democratic\"))\n",
    "    for partition in chain.with_progress_bar()\n",
    ")"
   ]
  },
  {
   "cell_type": "code",
   "execution_count": 18,
   "id": "9b268c4c-b6ba-4b9b-8777-57718f5ff5e5",
   "metadata": {},
   "outputs": [
    {
     "data": {
      "image/png": "[encoded data removed]",
      "text/plain": [
       "<Figure size 800x600 with 1 Axes>"
      ]
     },
     "metadata": {},
     "output_type": "display_data"
    }
   ],
   "source": [
    "# makes box plots look reasonable\n",
    "fig, ax = plt.subplots(figsize=(8, 6))\n",
    "\n",
    "# Draw 50% line\n",
    "ax.axhline(0.5, color=\"#cccccc\")\n",
    "\n",
    "# Draw boxplot\n",
    "data.boxplot(ax=ax, positions=range(len(data.columns)))\n",
    "\n",
    "# Draw initial plan's Democratic vote %s (.iloc[0] gives the first row, which corresponds to the initial plan)\n",
    "plt.plot(data.iloc[0], \"ro\")\n",
    "\n",
    "# Annotate\n",
    "ax.set_title(\"Comparing the 2011 plan to an ensemble\")\n",
    "ax.set_ylabel(\"Democratic vote % (Senate 2016)\")\n",
    "ax.set_xlabel(\"Sorted districts\")\n",
    "ax.set_ylim(0, 1)\n",
    "ax.set_yticks([0, 0.25, 0.5, 0.75, 1])\n",
    "\n",
    "plt.show()"
   ]
  },
  {
   "cell_type": "markdown",
   "id": "e425e4a2-3350-4703-9095-056f814baf2c",
   "metadata": {},
   "source": [
    "## Creating output files\n",
    "- Here we'll create some output files for each of our maps.\n",
    "- For each graph, we have one csv with the partisan (election outcome) data, and one csv with the district dual graph data.\n",
    "- We're also outputting the map every 100 steps."
   ]
  },
  {
   "cell_type": "code",
   "execution_count": 23,
   "id": "371639a4-4a26-4c5f-a171-0f896fdf4ee9",
   "metadata": {},
   "outputs": [],
   "source": [
    "# df=gpd.read_file(\"./CT/CT.shp\")"
   ]
  },
  {
   "cell_type": "code",
   "execution_count": 24,
   "id": "e3fee3f0-98d4-479a-ae88-ea3422b20419",
   "metadata": {},
   "outputs": [],
   "source": [
    "# index_output_file = outdir + \"_index.csv\""
   ]
  },
  {
   "cell_type": "code",
   "execution_count": 26,
   "id": "bf85adba-ff2d-4950-aa3b-1fe7dae5baab",
   "metadata": {},
   "outputs": [],
   "source": [
    "# with open(index_output_file, mode='w') as index_file:\n",
    "#     index_writer = csv.writer(index_file, delimiter=',', quotechar='\"', quoting=csv.QUOTE_MINIMAL)\n",
    "    \n",
    "#     #Run through chain, building \n",
    "#     for t, part in enumerate(chain):\n",
    "#         if t%save_district_graph_mod==0:\n",
    "#             tmp_str=str(t)\n",
    "#             file_prefix=tmp_str.rjust(8,'0')\n",
    "            \n",
    "#             #Add file names to index file            \n",
    "#             edges_output_file = outdir + file_prefix + \"_edges.csv\"\n",
    "#             districts_output_file = outdir + file_prefix + \"_districts.csv\"            \n",
    "#             index_writer.writerow([\"./\" + file_prefix + \"_districts.csv\", \"./\" + file_prefix + \"_edges.csv\"])\n",
    "                        \n",
    "\n",
    "#             #Build the district graph and write edges to file    \n",
    "#             s=set()\n",
    "#             for e in part[\"cut_edges\"]:\n",
    "#                 s.add( (part.assignment[e[0]],part.assignment[e[1]] ))\n",
    "#                 #s.add( (e[0],e[1]) )\n",
    "                \n",
    "#             with open(edges_output_file, mode='w') as edges_file:\n",
    "#                 edges_writer = csv.writer(edges_file, delimiter=',', quotechar='\"', quoting=csv.QUOTE_MINIMAL)\n",
    "        \n",
    "#                 for e1 in s:\n",
    "#                     edges_writer.writerow([e1[0],e1[1]])\n",
    "               \n",
    "            \n",
    "#             #Build the district file that contains election results\n",
    "#             D_votes = part[\"SEN16\"].votes(\"Democratic\") \n",
    "#             R_votes = part[\"SEN16\"].votes(\"Republican\") \n",
    "           \n",
    "#             with open(districts_output_file, mode='w') as districts_file:            \n",
    "#                 districts_writer = csv.writer(districts_file, delimiter=',', quotechar='\"', quoting=csv.QUOTE_MINIMAL)\n",
    "        \n",
    "#                 for i in range(len(D_votes)):\n",
    "#                     districts_writer.writerow([i+1, int(D_votes[i]),int(R_votes[i]),0])\n",
    "             \n",
    "#         if t%save_district_plot_mod==0:\n",
    "#             df.plot(pd.Series([part.assignment[i] for i in df.index]), cmap=\"tab20\", figsize=(16,8))\n",
    "#             #plt.show()\n",
    "#             plot_output_file = outdir + file_prefix + \"_plot.png\"\n",
    "#             plt.savefig(plot_output_file)\n",
    "            # plt.close()"
   ]
  },
  {
   "cell_type": "code",
   "execution_count": null,
   "id": "12186b01-51d7-44bd-9e20-028b466deca6",
   "metadata": {},
   "outputs": [],
   "source": []
  }
 ],
 "metadata": {
  "kernelspec": {
   "display_name": "Python 3 (ipykernel)",
   "language": "python",
   "name": "python3"
  },
  "language_info": {
   "codemirror_mode": {
    "name": "ipython",
    "version": 3
   },
   "file_extension": ".py",
   "mimetype": "text/x-python",
   "name": "python",
   "nbconvert_exporter": "python",
   "pygments_lexer": "ipython3",
   "version": "3.11.4"
  }
 },
 "nbformat": 4,
 "nbformat_minor": 5
}
